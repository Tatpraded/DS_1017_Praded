{
  "cells": [
    {
      "cell_type": "markdown",
      "id": "b054bd88",
      "metadata": {
        "id": "b054bd88"
      },
      "source": [
        "# <center> Линейная алгебра в контексте линейных методов. Практика.\n",
        "\n",
        "## <center> Прогнозирование выработки газа на скважинах."
      ]
    },
    {
      "cell_type": "markdown",
      "id": "325bc80b",
      "metadata": {
        "id": "325bc80b"
      },
      "source": [
        "## Постановка задачи"
      ]
    },
    {
      "cell_type": "markdown",
      "id": "8247bd54",
      "metadata": {
        "id": "8247bd54"
      },
      "source": [
        "У Василия, основателя компании «Газ-Таз-Ваз-Нефть», дела идут в гору: у него уже функционирует 200 скважин для добычи газа. В этом году он открывает 30 новых скважин. Однако в целях оптимизации расходов и повышения дохода Василию необходимо оценить, сколько денег будет приносить ему каждая из скважин, а также понять, какие факторы (параметры скважин) потенциально сильнее всего повлияют на объём добычи газа. Для этого Василий решил нанять вас как специалиста в области Data Science.\n",
        "\n",
        "Василий представляет вам набор данных о добыче газа на своих скважинах. Файл с данными вы можете скачать на платформе.\n",
        "\n",
        "**Признаки в данных:**\n",
        "\n",
        "* Well — идентификатор скважины;\n",
        "* Por — пористость скважины (%);\n",
        "* Perm — проницаемость скважины;\n",
        "* AI — акустический импеданс ($кг/м^2 * 10^6$);\n",
        "* Brittle — коэффициент хрупкости скважины (%);\n",
        "* TOC — общий органический углерод (%);\n",
        "* VR — коэффициент отражения витринита (%);\n",
        "* Prod — добыча газа в сутки (млн. кубических футов).\n",
        "\n",
        "**Ваша задача** — построить регрессионную модель, которая прогнозирует выработку газа на скважине (целевой признак — Prod) на основе остальных характеристик скважины, и проинтерпретировать результаты вашей модели.\n",
        "\n",
        "Разделим задачу на две части:\n",
        "* В первой мы построим простейшую модель линейной регрессии, проанализируем результаты её работы и выберем наиболее значимые факторы для прогнозирования.\n",
        "* Во второй мы займёмся построением модели полиномиальной регрессии с регуляризацией и посмотрим на итоговые результаты моделирования.\n"
      ]
    },
    {
      "cell_type": "markdown",
      "id": "d67d069e",
      "metadata": {
        "id": "d67d069e"
      },
      "source": [
        "Импортируем необходимые библиотеки:"
      ]
    },
    {
      "cell_type": "code",
      "execution_count": 184,
      "id": "83a555bc-8dff-4b7e-bba1-cd4f4a9e69b2",
      "metadata": {
        "id": "83a555bc-8dff-4b7e-bba1-cd4f4a9e69b2"
      },
      "outputs": [],
      "source": [
        "# Импорт библиотек\n",
        "import numpy as np # для работы с массивами\n",
        "import pandas as pd # для работы с DataFrame \n",
        "import seaborn as sns # библиотека для визуализации статистических данных\n",
        "import matplotlib.pyplot as plt # для построения графиков\n",
        "from sklearn.linear_model import LinearRegression\n",
        "\n",
        "%matplotlib inline"
      ]
    },
    {
      "cell_type": "markdown",
      "id": "e689ddaf",
      "metadata": {
        "id": "e689ddaf"
      },
      "source": [
        "Прочитаем исходные данные:"
      ]
    },
    {
      "cell_type": "code",
      "execution_count": 185,
      "id": "b7b5cd9b-703f-4dbc-a6e3-61d583eafcac",
      "metadata": {
        "colab": {
          "base_uri": "https://localhost:8080/",
          "height": 206
        },
        "id": "b7b5cd9b-703f-4dbc-a6e3-61d583eafcac",
        "outputId": "d4e99a48-2a0d-4edd-f86c-617c44bf36d2"
      },
      "outputs": [
        {
          "data": {
            "text/html": [
              "<div>\n",
              "<style scoped>\n",
              "    .dataframe tbody tr th:only-of-type {\n",
              "        vertical-align: middle;\n",
              "    }\n",
              "\n",
              "    .dataframe tbody tr th {\n",
              "        vertical-align: top;\n",
              "    }\n",
              "\n",
              "    .dataframe thead th {\n",
              "        text-align: right;\n",
              "    }\n",
              "</style>\n",
              "<table border=\"1\" class=\"dataframe\">\n",
              "  <thead>\n",
              "    <tr style=\"text-align: right;\">\n",
              "      <th></th>\n",
              "      <th>Well</th>\n",
              "      <th>Por</th>\n",
              "      <th>Perm</th>\n",
              "      <th>AI</th>\n",
              "      <th>Brittle</th>\n",
              "      <th>TOC</th>\n",
              "      <th>VR</th>\n",
              "      <th>Prod</th>\n",
              "    </tr>\n",
              "  </thead>\n",
              "  <tbody>\n",
              "    <tr>\n",
              "      <th>0</th>\n",
              "      <td>1</td>\n",
              "      <td>12.08</td>\n",
              "      <td>2.92</td>\n",
              "      <td>2.80</td>\n",
              "      <td>81.40</td>\n",
              "      <td>1.16</td>\n",
              "      <td>2.31</td>\n",
              "      <td>4165.196191</td>\n",
              "    </tr>\n",
              "    <tr>\n",
              "      <th>1</th>\n",
              "      <td>2</td>\n",
              "      <td>12.38</td>\n",
              "      <td>3.53</td>\n",
              "      <td>3.22</td>\n",
              "      <td>46.17</td>\n",
              "      <td>0.89</td>\n",
              "      <td>1.88</td>\n",
              "      <td>3561.146205</td>\n",
              "    </tr>\n",
              "    <tr>\n",
              "      <th>2</th>\n",
              "      <td>3</td>\n",
              "      <td>14.02</td>\n",
              "      <td>2.59</td>\n",
              "      <td>4.01</td>\n",
              "      <td>72.80</td>\n",
              "      <td>0.89</td>\n",
              "      <td>2.72</td>\n",
              "      <td>4284.348574</td>\n",
              "    </tr>\n",
              "    <tr>\n",
              "      <th>3</th>\n",
              "      <td>4</td>\n",
              "      <td>17.67</td>\n",
              "      <td>6.75</td>\n",
              "      <td>2.63</td>\n",
              "      <td>39.81</td>\n",
              "      <td>1.08</td>\n",
              "      <td>1.88</td>\n",
              "      <td>5098.680869</td>\n",
              "    </tr>\n",
              "    <tr>\n",
              "      <th>4</th>\n",
              "      <td>5</td>\n",
              "      <td>17.52</td>\n",
              "      <td>4.57</td>\n",
              "      <td>3.18</td>\n",
              "      <td>10.94</td>\n",
              "      <td>1.51</td>\n",
              "      <td>1.90</td>\n",
              "      <td>3406.132832</td>\n",
              "    </tr>\n",
              "  </tbody>\n",
              "</table>\n",
              "</div>"
            ],
            "text/plain": [
              "   Well    Por  Perm    AI  Brittle   TOC    VR         Prod\n",
              "0     1  12.08  2.92  2.80    81.40  1.16  2.31  4165.196191\n",
              "1     2  12.38  3.53  3.22    46.17  0.89  1.88  3561.146205\n",
              "2     3  14.02  2.59  4.01    72.80  0.89  2.72  4284.348574\n",
              "3     4  17.67  6.75  2.63    39.81  1.08  1.88  5098.680869\n",
              "4     5  17.52  4.57  3.18    10.94  1.51  1.90  3406.132832"
            ]
          },
          "execution_count": 185,
          "metadata": {},
          "output_type": "execute_result"
        }
      ],
      "source": [
        "data = pd.read_csv('/home/tatiana/Документы/SkillFactoryTask/ML_MATH_1/_unconv/unconv.csv')\n",
        "data.head()"
      ]
    },
    {
      "cell_type": "markdown",
      "id": "58639b40",
      "metadata": {
        "id": "58639b40"
      },
      "source": [
        "## Практика: линейная регрессия по методу наименьших квадратов"
      ]
    },
    {
      "cell_type": "markdown",
      "id": "a90535b8",
      "metadata": {
        "id": "a90535b8"
      },
      "source": [
        "Для начала построим простейшую модель линейной регрессии, проанализируем результаты её работы и выберем наиболее значимые факторы для прогнозирования.\n",
        "\n",
        "В первой части вам предстоит выполнить задания 5.0–5.6. Максимальное количество баллов, которое можно получить, — 9."
      ]
    },
    {
      "cell_type": "markdown",
      "id": "4061b706",
      "metadata": {
        "id": "4061b706"
      },
      "source": [
        "### Задание 5.0. (не оценивается)\n",
        "\n",
        "Проведите небольшой разведывательный анализ, чтобы поближе познакомиться с исходными данными. Постройте несколько визуализаций, которые помогут вам понять, как устроены исходные признаки, а также смогут продемонстрировать взаимосвязь факторов. \n",
        "\n",
        "Сделайте промежуточные выводы из проведённого разведывательного анализа."
      ]
    },
    {
      "cell_type": "code",
      "execution_count": 186,
      "id": "daf1ccc7",
      "metadata": {
        "id": "daf1ccc7"
      },
      "outputs": [
        {
          "name": "stdout",
          "output_type": "stream",
          "text": [
            "<class 'pandas.core.frame.DataFrame'>\n",
            "RangeIndex: 200 entries, 0 to 199\n",
            "Data columns (total 8 columns):\n",
            " #   Column   Non-Null Count  Dtype  \n",
            "---  ------   --------------  -----  \n",
            " 0   Well     200 non-null    int64  \n",
            " 1   Por      200 non-null    float64\n",
            " 2   Perm     200 non-null    float64\n",
            " 3   AI       200 non-null    float64\n",
            " 4   Brittle  200 non-null    float64\n",
            " 5   TOC      200 non-null    float64\n",
            " 6   VR       200 non-null    float64\n",
            " 7   Prod     200 non-null    float64\n",
            "dtypes: float64(7), int64(1)\n",
            "memory usage: 12.6 KB\n"
          ]
        }
      ],
      "source": [
        "data.info()"
      ]
    },
    {
      "cell_type": "code",
      "execution_count": 187,
      "id": "83f96634",
      "metadata": {},
      "outputs": [
        {
          "data": {
            "text/html": [
              "<div>\n",
              "<style scoped>\n",
              "    .dataframe tbody tr th:only-of-type {\n",
              "        vertical-align: middle;\n",
              "    }\n",
              "\n",
              "    .dataframe tbody tr th {\n",
              "        vertical-align: top;\n",
              "    }\n",
              "\n",
              "    .dataframe thead th {\n",
              "        text-align: right;\n",
              "    }\n",
              "</style>\n",
              "<table border=\"1\" class=\"dataframe\">\n",
              "  <thead>\n",
              "    <tr style=\"text-align: right;\">\n",
              "      <th></th>\n",
              "      <th>Well</th>\n",
              "      <th>Por</th>\n",
              "      <th>Perm</th>\n",
              "      <th>AI</th>\n",
              "      <th>Brittle</th>\n",
              "      <th>TOC</th>\n",
              "      <th>VR</th>\n",
              "      <th>Prod</th>\n",
              "    </tr>\n",
              "  </thead>\n",
              "  <tbody>\n",
              "    <tr>\n",
              "      <th>count</th>\n",
              "      <td>200.000000</td>\n",
              "      <td>200.000000</td>\n",
              "      <td>200.000000</td>\n",
              "      <td>200.000000</td>\n",
              "      <td>200.000000</td>\n",
              "      <td>200.000000</td>\n",
              "      <td>200.000000</td>\n",
              "      <td>200.000000</td>\n",
              "    </tr>\n",
              "    <tr>\n",
              "      <th>mean</th>\n",
              "      <td>100.500000</td>\n",
              "      <td>14.991150</td>\n",
              "      <td>4.330750</td>\n",
              "      <td>2.968850</td>\n",
              "      <td>48.161950</td>\n",
              "      <td>0.990450</td>\n",
              "      <td>1.964300</td>\n",
              "      <td>4311.219852</td>\n",
              "    </tr>\n",
              "    <tr>\n",
              "      <th>std</th>\n",
              "      <td>57.879185</td>\n",
              "      <td>2.971176</td>\n",
              "      <td>1.731014</td>\n",
              "      <td>0.566885</td>\n",
              "      <td>14.129455</td>\n",
              "      <td>0.481588</td>\n",
              "      <td>0.300827</td>\n",
              "      <td>992.038414</td>\n",
              "    </tr>\n",
              "    <tr>\n",
              "      <th>min</th>\n",
              "      <td>1.000000</td>\n",
              "      <td>6.550000</td>\n",
              "      <td>1.130000</td>\n",
              "      <td>1.280000</td>\n",
              "      <td>10.940000</td>\n",
              "      <td>-0.190000</td>\n",
              "      <td>0.930000</td>\n",
              "      <td>2107.139414</td>\n",
              "    </tr>\n",
              "    <tr>\n",
              "      <th>25%</th>\n",
              "      <td>50.750000</td>\n",
              "      <td>12.912500</td>\n",
              "      <td>3.122500</td>\n",
              "      <td>2.547500</td>\n",
              "      <td>37.755000</td>\n",
              "      <td>0.617500</td>\n",
              "      <td>1.770000</td>\n",
              "      <td>3618.064513</td>\n",
              "    </tr>\n",
              "    <tr>\n",
              "      <th>50%</th>\n",
              "      <td>100.500000</td>\n",
              "      <td>15.070000</td>\n",
              "      <td>4.035000</td>\n",
              "      <td>2.955000</td>\n",
              "      <td>49.510000</td>\n",
              "      <td>1.030000</td>\n",
              "      <td>1.960000</td>\n",
              "      <td>4284.687348</td>\n",
              "    </tr>\n",
              "    <tr>\n",
              "      <th>75%</th>\n",
              "      <td>150.250000</td>\n",
              "      <td>17.402500</td>\n",
              "      <td>5.287500</td>\n",
              "      <td>3.345000</td>\n",
              "      <td>58.262500</td>\n",
              "      <td>1.350000</td>\n",
              "      <td>2.142500</td>\n",
              "      <td>5086.089761</td>\n",
              "    </tr>\n",
              "    <tr>\n",
              "      <th>max</th>\n",
              "      <td>200.000000</td>\n",
              "      <td>23.550000</td>\n",
              "      <td>9.870000</td>\n",
              "      <td>4.630000</td>\n",
              "      <td>84.330000</td>\n",
              "      <td>2.180000</td>\n",
              "      <td>2.870000</td>\n",
              "      <td>6662.622385</td>\n",
              "    </tr>\n",
              "  </tbody>\n",
              "</table>\n",
              "</div>"
            ],
            "text/plain": [
              "             Well         Por        Perm          AI     Brittle         TOC  \\\n",
              "count  200.000000  200.000000  200.000000  200.000000  200.000000  200.000000   \n",
              "mean   100.500000   14.991150    4.330750    2.968850   48.161950    0.990450   \n",
              "std     57.879185    2.971176    1.731014    0.566885   14.129455    0.481588   \n",
              "min      1.000000    6.550000    1.130000    1.280000   10.940000   -0.190000   \n",
              "25%     50.750000   12.912500    3.122500    2.547500   37.755000    0.617500   \n",
              "50%    100.500000   15.070000    4.035000    2.955000   49.510000    1.030000   \n",
              "75%    150.250000   17.402500    5.287500    3.345000   58.262500    1.350000   \n",
              "max    200.000000   23.550000    9.870000    4.630000   84.330000    2.180000   \n",
              "\n",
              "               VR         Prod  \n",
              "count  200.000000   200.000000  \n",
              "mean     1.964300  4311.219852  \n",
              "std      0.300827   992.038414  \n",
              "min      0.930000  2107.139414  \n",
              "25%      1.770000  3618.064513  \n",
              "50%      1.960000  4284.687348  \n",
              "75%      2.142500  5086.089761  \n",
              "max      2.870000  6662.622385  "
            ]
          },
          "execution_count": 187,
          "metadata": {},
          "output_type": "execute_result"
        }
      ],
      "source": [
        "data.describe()"
      ]
    },
    {
      "cell_type": "code",
      "execution_count": 188,
      "id": "43b01c34",
      "metadata": {},
      "outputs": [],
      "source": [
        "#sns.pairplot(data)"
      ]
    },
    {
      "cell_type": "markdown",
      "id": "7b0e3dbb",
      "metadata": {},
      "source": [
        "Выводы:\n",
        "1. В данных нет пропущенных значений\n",
        "2. В данных нет нулевых значений, которые теоретически могут подменять пропущенные\n",
        "3. Все признаки числовые \n",
        "4. Распределение на графиках близко к нормальному\n",
        "5. Каждый из признаков измеряется в различных единицах и изменяется в различных диапазонах"
      ]
    },
    {
      "cell_type": "markdown",
      "id": "d11cb44f",
      "metadata": {
        "id": "d11cb44f"
      },
      "source": [
        "### Задание 5.1. (2 балла)\n",
        "\n",
        "Постройте корреляционную матрицу факторов, включив в неё целевой признак. \n",
        "\n",
        "Для наглядности визуализируйте полученную матрицу с помощью тепловой карты. \n",
        "\n",
        "**Примечание.** *Для визуализации вы можете использовать любую из знакомых вам библиотек.*\n",
        "\n",
        "На основе построенной корреляционной матрицы ответьте на следующий вопрос:\n",
        "\n",
        "* Какие факторы сильнее всего коррелируют с целевой переменной?\n",
        "\n",
        "Вычислите ранг и определитель полученной матрицы корреляций и приведите развёрнутые ответы на следующие вопросы:\n",
        "* Является ли корреляционная матрица плохо обусловенной (близок ли её опредитель к нулю)?\n",
        "* Что вы можете сказать о наличии коллинераности/мультиколлинеарности в данных? \n",
        "* Применима ли в данном случае модель классической линейной регрессии по методу наименьших квадратов и почему? "
      ]
    },
    {
      "cell_type": "markdown",
      "id": "57OjUl5e2oiL",
      "metadata": {
        "id": "57OjUl5e2oiL"
      },
      "source": [
        "**Критерии оценивания:**\n",
        "- Задание выполнено верно, учтены все условия (**2 балла**): \n",
        "    * приведён код для расчёта корреляционной матрицы;\n",
        "    * приведён код для визуализации корреляционной матрицы в виде тепловой карты;\n",
        "    * рассчитаны ранг и определитель корреляционной матрицы;\n",
        "    * предоставлены обоснованные ответы на все поставленные вопросы. \n",
        "\n",
        "- Задание выполнено верно, но не учтено одно условие (**1 балл**).\n",
        "- Задание выполнено неверно, не учтено несколько условий (**0 баллов**)."
      ]
    },
    {
      "cell_type": "code",
      "execution_count": 189,
      "id": "af00a5a0",
      "metadata": {
        "id": "af00a5a0"
      },
      "outputs": [
        {
          "data": {
            "text/html": [
              "<div>\n",
              "<style scoped>\n",
              "    .dataframe tbody tr th:only-of-type {\n",
              "        vertical-align: middle;\n",
              "    }\n",
              "\n",
              "    .dataframe tbody tr th {\n",
              "        vertical-align: top;\n",
              "    }\n",
              "\n",
              "    .dataframe thead th {\n",
              "        text-align: right;\n",
              "    }\n",
              "</style>\n",
              "<table border=\"1\" class=\"dataframe\">\n",
              "  <thead>\n",
              "    <tr style=\"text-align: right;\">\n",
              "      <th></th>\n",
              "      <th>Well</th>\n",
              "      <th>Por</th>\n",
              "      <th>Perm</th>\n",
              "      <th>AI</th>\n",
              "      <th>Brittle</th>\n",
              "      <th>TOC</th>\n",
              "      <th>VR</th>\n",
              "      <th>Prod</th>\n",
              "    </tr>\n",
              "  </thead>\n",
              "  <tbody>\n",
              "    <tr>\n",
              "      <th>Well</th>\n",
              "      <td>1.000000</td>\n",
              "      <td>0.068927</td>\n",
              "      <td>0.077928</td>\n",
              "      <td>0.041483</td>\n",
              "      <td>-0.079252</td>\n",
              "      <td>0.022624</td>\n",
              "      <td>-0.007279</td>\n",
              "      <td>0.026817</td>\n",
              "    </tr>\n",
              "    <tr>\n",
              "      <th>Por</th>\n",
              "      <td>0.068927</td>\n",
              "      <td>1.000000</td>\n",
              "      <td>0.760546</td>\n",
              "      <td>-0.461549</td>\n",
              "      <td>-0.218570</td>\n",
              "      <td>0.711831</td>\n",
              "      <td>0.111860</td>\n",
              "      <td>0.861910</td>\n",
              "    </tr>\n",
              "    <tr>\n",
              "      <th>Perm</th>\n",
              "      <td>0.077928</td>\n",
              "      <td>0.760546</td>\n",
              "      <td>1.000000</td>\n",
              "      <td>-0.239636</td>\n",
              "      <td>-0.124017</td>\n",
              "      <td>0.471746</td>\n",
              "      <td>0.051023</td>\n",
              "      <td>0.727426</td>\n",
              "    </tr>\n",
              "    <tr>\n",
              "      <th>AI</th>\n",
              "      <td>0.041483</td>\n",
              "      <td>-0.461549</td>\n",
              "      <td>-0.239636</td>\n",
              "      <td>1.000000</td>\n",
              "      <td>0.127599</td>\n",
              "      <td>-0.531864</td>\n",
              "      <td>0.499143</td>\n",
              "      <td>-0.390835</td>\n",
              "    </tr>\n",
              "    <tr>\n",
              "      <th>Brittle</th>\n",
              "      <td>-0.079252</td>\n",
              "      <td>-0.218570</td>\n",
              "      <td>-0.124017</td>\n",
              "      <td>0.127599</td>\n",
              "      <td>1.000000</td>\n",
              "      <td>-0.214282</td>\n",
              "      <td>0.317929</td>\n",
              "      <td>0.237155</td>\n",
              "    </tr>\n",
              "    <tr>\n",
              "      <th>TOC</th>\n",
              "      <td>0.022624</td>\n",
              "      <td>0.711831</td>\n",
              "      <td>0.471746</td>\n",
              "      <td>-0.531864</td>\n",
              "      <td>-0.214282</td>\n",
              "      <td>1.000000</td>\n",
              "      <td>0.299483</td>\n",
              "      <td>0.654445</td>\n",
              "    </tr>\n",
              "    <tr>\n",
              "      <th>VR</th>\n",
              "      <td>-0.007279</td>\n",
              "      <td>0.111860</td>\n",
              "      <td>0.051023</td>\n",
              "      <td>0.499143</td>\n",
              "      <td>0.317929</td>\n",
              "      <td>0.299483</td>\n",
              "      <td>1.000000</td>\n",
              "      <td>0.323182</td>\n",
              "    </tr>\n",
              "    <tr>\n",
              "      <th>Prod</th>\n",
              "      <td>0.026817</td>\n",
              "      <td>0.861910</td>\n",
              "      <td>0.727426</td>\n",
              "      <td>-0.390835</td>\n",
              "      <td>0.237155</td>\n",
              "      <td>0.654445</td>\n",
              "      <td>0.323182</td>\n",
              "      <td>1.000000</td>\n",
              "    </tr>\n",
              "  </tbody>\n",
              "</table>\n",
              "</div>"
            ],
            "text/plain": [
              "             Well       Por      Perm        AI   Brittle       TOC        VR  \\\n",
              "Well     1.000000  0.068927  0.077928  0.041483 -0.079252  0.022624 -0.007279   \n",
              "Por      0.068927  1.000000  0.760546 -0.461549 -0.218570  0.711831  0.111860   \n",
              "Perm     0.077928  0.760546  1.000000 -0.239636 -0.124017  0.471746  0.051023   \n",
              "AI       0.041483 -0.461549 -0.239636  1.000000  0.127599 -0.531864  0.499143   \n",
              "Brittle -0.079252 -0.218570 -0.124017  0.127599  1.000000 -0.214282  0.317929   \n",
              "TOC      0.022624  0.711831  0.471746 -0.531864 -0.214282  1.000000  0.299483   \n",
              "VR      -0.007279  0.111860  0.051023  0.499143  0.317929  0.299483  1.000000   \n",
              "Prod     0.026817  0.861910  0.727426 -0.390835  0.237155  0.654445  0.323182   \n",
              "\n",
              "             Prod  \n",
              "Well     0.026817  \n",
              "Por      0.861910  \n",
              "Perm     0.727426  \n",
              "AI      -0.390835  \n",
              "Brittle  0.237155  \n",
              "TOC      0.654445  \n",
              "VR       0.323182  \n",
              "Prod     1.000000  "
            ]
          },
          "execution_count": 189,
          "metadata": {},
          "output_type": "execute_result"
        }
      ],
      "source": [
        "# матрица корреляций\n",
        "A = data.corr()\n",
        "A"
      ]
    },
    {
      "cell_type": "code",
      "execution_count": 190,
      "id": "4330b961",
      "metadata": {},
      "outputs": [
        {
          "name": "stdout",
          "output_type": "stream",
          "text": [
            "Rank: 8\n",
            "Determinant: 0.0007299\n"
          ]
        }
      ],
      "source": [
        "print('Rank:', np.linalg.matrix_rank(A))\n",
        "print('Determinant: {:.7f}'.format(np.linalg.det(A)))"
      ]
    },
    {
      "cell_type": "code",
      "execution_count": 191,
      "id": "80aedd84",
      "metadata": {},
      "outputs": [
        {
          "data": {
            "text/plain": [
              "<AxesSubplot: >"
            ]
          },
          "execution_count": 191,
          "metadata": {},
          "output_type": "execute_result"
        },
        {
          "data": {
            "image/png": "[encoded data removed]",
            "text/plain": [
              "<Figure size 640x480 with 2 Axes>"
            ]
          },
          "metadata": {},
          "output_type": "display_data"
        }
      ],
      "source": [
        "# строим тепловую карту\n",
        "sns.heatmap(data = A, annot=True, cmap='coolwarm')"
      ]
    },
    {
      "cell_type": "code",
      "execution_count": 192,
      "id": "1ec3711d",
      "metadata": {},
      "outputs": [
        {
          "name": "stdout",
          "output_type": "stream",
          "text": [
            "[('Por', 'Perm'), ('Por', 'TOC'), ('Por', 'Prod'), ('Perm', 'Prod')]\n"
          ]
        }
      ],
      "source": [
        "# выделим пары сильно скоррелированных признаков (более 0.7)\n",
        "corr_matrix = data.corr().abs()\n",
        "high_corr_var_pairs = [(corr_matrix.columns[i], corr_matrix.columns[j]) for i in range(len(corr_matrix.columns)) for j in range(i+1, len(corr_matrix.columns)) if corr_matrix.iloc[i,j] > 0.7]\n",
        "\n",
        "print(high_corr_var_pairs)"
      ]
    },
    {
      "cell_type": "markdown",
      "id": "9a56013d",
      "metadata": {
        "id": "9a56013d"
      },
      "source": [
        "1. С целевой перменной сильнее всего коррелируют Por и Perm (пористость и проницаемость скважины)\n",
        "2. Да, матрица является плохо обусловленной и ее определитель близок к нулю\n",
        "3. Между некоторыми признаками (например, Por и TOC, Perm и Por) существует сильная положительная корреляция (коэффициент корреляции близок к 1). Это может указывать на наличие линейной связи между этими признаками. Некоторые признаки (например, Well и Brittle) имеют слабую или отрицательную корреляцию, что указывает на отсутствие линейной связи между ними. Некоторые признаки (например, AI и TOC) имеют относительно низкую корреляцию, что может указывать на слабую линейную связь между ними.\n",
        "4. Когда в данных присутствует сильная коллинеарность между признаками, это может привести к проблемам в модели классической линейной регрессии. Одна из причин - это высокая мультиколлинеарность, когда несколько признаков сильно коррелируют между собой, что затрудняет оценку и интерпретацию влияния каждого признака на целевую переменную. В данном случае, некоторые признаки имеют высокую корреляцию (например, Por и Perm, Por и TOC), что может потенциально указывать на мультиколлинеарность в данных. Это может затруднить оценку влияния каждого признака на целевую переменную. Однако, решение о применении модели классической линейной регрессии по методу наименьших квадратов зависит от конкретной задачи и контекста. В некоторых случаях, даже при наличии некоторой корреляции между признаками, модель может быть применима, особенно при использовании дополнительных методов, таких как регуляризация или отбор признаков. Необходимо провести дополнительный анализ данных и оценить влияние возможной мультиколлинеарности на результаты модели, прежде чем делать окончательное решение о применимости модели классической линейной регрессии."
      ]
    },
    {
      "cell_type": "markdown",
      "id": "43fd91c4",
      "metadata": {
        "id": "43fd91c4"
      },
      "source": [
        "### Задание 5.2. (2 балла)\n",
        "\n",
        "Создайте матрицу наблюдений `X` и вектор правильных ответов `y`. В качестве факторов для матрицы наблюдений возьмите все имеющиеся в данных признаки. \n",
        "\n",
        "Постройте модель линейной регрессии по методу наименьших квадратов. Для этого воспользуйтесь матричной формулой МНК и инструментарием библиотеки numpy. \n",
        "\n",
        "Выведите на экран полученные оценки коэффициентов модели, округлённые до целого.\n",
        "\n",
        "Приведите подробные выводы по полученным результатам, ответив на следующие вопросы:\n",
        "* Есть ли в ваших данных признаки, которые, согласно модели, можно назвать неинформативными, то есть они не оказывают влияния на целевую переменную или оказывают шумовое влияние?\n",
        "* Приведите интерпретацию нескольких (двух или трёх) коэффициентов полученной модели линейной регрессии.\n"
      ]
    },
    {
      "cell_type": "markdown",
      "id": "QtNtTUzI4Cpq",
      "metadata": {
        "id": "QtNtTUzI4Cpq"
      },
      "source": [
        "**Критерии оценивания:**\n",
        "- Задание выполнено верно, учтены все условия (**2 балла**): \n",
        "    * приведён код для нахождения параметров модели линейной регрессии с помощью матричной формулы МНК;\n",
        "    * на основе полученных параметров даны верные ответы на поставленные вопросы;\n",
        "    * приведена корректная интерпретация нескольких коэффициентов полученной модели линейной регрессии.\n",
        "\n",
        "- Задание выполнено верно, но не учтено одно из условий (**1 балл**).\n",
        "- Задание выполнено неверно, не учтено несколько условий (**0 баллов**)."
      ]
    },
    {
      "cell_type": "code",
      "execution_count": 193,
      "id": "5724288c",
      "metadata": {
        "id": "5724288c"
      },
      "outputs": [],
      "source": [
        "#X - матрица наблюдений, y - столбец правильных ответов\n",
        "X = data.drop('Prod', axis=1)\n",
        "y = data['Prod']"
      ]
    },
    {
      "cell_type": "code",
      "execution_count": 194,
      "id": "ea1738d9",
      "metadata": {},
      "outputs": [
        {
          "name": "stdout",
          "output_type": "stream",
          "text": [
            "ones: -1232\n",
            "Well: 0\n",
            "Por: 230\n",
            "Perm: 116\n",
            "AI: -365\n",
            "Brittle: 25\n",
            "TOC: -78\n",
            "VR: 785\n"
          ]
        }
      ],
      "source": [
        "# Создание матрицы наблюдений X\n",
        "X = np.array([\n",
        "    data['Well'],\n",
        "    data['Por'],\n",
        "    data['Perm'],\n",
        "    data['AI'],\n",
        "    data['Brittle'],\n",
        "    data['TOC'],\n",
        "    data['VR']\n",
        "]).T\n",
        "\n",
        "# Создание вектора целевых значений y\n",
        "y = np.array(data['Prod'])\n",
        "\n",
        "# Добавление столбца из единиц к матрице X для учета свободного члена\n",
        "X = np.column_stack((np.ones(len(X)), X))\n",
        "\n",
        "# Вычисление коэффициентов с использованием метода наименьших квадратов\n",
        "coeffs = np.linalg.inv(X.T@ X)@ X.T@ y\n",
        "\n",
        "\n",
        "# Вывод вектора весов с подписями столбцов\n",
        "for feature, weight in zip(['ones', 'Well', 'Por', 'Perm', 'AI', 'Brittle', 'TOC', 'VR'], np.round(coeffs).astype(int)):\n",
        "    print(f'{feature}: {weight}')"
      ]
    },
    {
      "cell_type": "markdown",
      "id": "bab9ee21",
      "metadata": {
        "id": "bab9ee21"
      },
      "source": [
        "1. Коэффициент для признака \"Well\" равен 0. Это означает, что данный признак не оказывает влияния на целевую переменную или оказывает незначительное, неинформативное влияние.\n",
        "2. Коэффициент для признака \"Por\" равен 230. Это положительное значение указывает на то, что при увеличении значения признака \"Por\" на единицу, ожидается увеличение целевой переменной на 230 единиц, при условии, что остальные признаки не меняются. Таким образом, признак \"Por\" является положительным фактором, оказывающим влияние на целевую переменную.\n",
        "3. Коэффициент для признака \"Perm\" равен 116. Аналогично, это положительное значение указывает на то, что при увеличении значения признака \"Perm\" на единицу, ожидается увеличение целевой переменной на 116 единиц.\n",
        "4. Коэффициент для признака \"AI\" равен -365. Отрицательное значение указывает на то, что при увеличении значения признака \"AI\" на единицу, ожидается уменьшение целевой переменной на 365 единиц. Таким образом, признак \"AI\" является отрицательным фактором, оказывающим влияние на целевую переменную.\n",
        "\n",
        "Интерпретация коэффициентов модели линейной регрессии позволяет определить, какие признаки оказывают значимое влияние на целевую переменную. В данном случае, признаки \"Por\" и \"Perm\" положительно влияют на целевую переменную, в то время как признак \"AI\" оказывает отрицательное влияние. Признак \"Well\" не имеет значимого влияния на целевую переменную."
      ]
    },
    {
      "cell_type": "markdown",
      "id": "4a05a4ac",
      "metadata": {
        "id": "4a05a4ac"
      },
      "source": [
        "### Задание 5.3. (1 балл)\n",
        "\n",
        "Теперь потренируемся строить предсказание для наблюдений целевой переменной. \n",
        "\n",
        "**а)** Постройте прогноз выработки газа для скважины со следующими параметрами:\n",
        "\n",
        "```python\n",
        "{\n",
        "    'Well': 106.0,\n",
        "    'Por': 15.32,\n",
        "    'Perm': 3.71,\n",
        "    'AI': 3.29,\n",
        "    'Brittle': 55.99,\n",
        "    'TOC': 1.35,\n",
        "    'VR': 2.42\n",
        " }\n",
        "```\n",
        "\n",
        "Рассчитайте абсолютную ошибку построенного вами прогноза для предложенной скважины (в миллионах кубических футов в день), если известно, что на этой скважине производится `4748.315024` миллионов кубических футов газа в день. \n",
        "\n",
        "**б)** Постройте прогноз выработки газа для всех скважин из обучающего набора данных. Выберите метрику, по которой вы будете оценивать качество регрессионных моделей и сравнивать их между собой (можно использовать несколько метрик, но не более двух).\n",
        "\n",
        "Рассчитайте значение выбранной метрики для вашей модели. Приведите интерпретацию полученного результата. "
      ]
    },
    {
      "cell_type": "markdown",
      "id": "qUDcep5Q5GWU",
      "metadata": {
        "id": "qUDcep5Q5GWU"
      },
      "source": [
        "**Критерии оценивания:**\n",
        "- Задание выполнено верно, учтены все условия (**1 балл**): \n",
        "    * приведён код для построения прогноза выработки газа на указанной скважине и рассчитана абсолютная ошибка прогноза для этой скважины;\n",
        "    * выбрана корректная для поставленной задачи метрика (или метрики) оценки качества модели и приведён код для расчёта этой метрики на всём обучающем наборе данных;\n",
        "    * приведена корректная интерпретация полученного результата.\n",
        "\n",
        "- Задание выполнено верно, но не учтено одно из условий, или задание выполнено неверно (**0 баллов**)."
      ]
    },
    {
      "cell_type": "code",
      "execution_count": 195,
      "id": "e4291db0",
      "metadata": {
        "id": "e4291db0"
      },
      "outputs": [
        {
          "name": "stdout",
          "output_type": "stream",
          "text": [
            "Прогноз выработки газа для данной скважины: 4715.26 миллионов кубических футов в день\n"
          ]
        }
      ],
      "source": [
        "# Загружаем оценки коэффициентов модели, полученные в задании 5.2\n",
        "coefficients = np.array([-1232, 0, 230, 116, -365, 25, -78, 785])\n",
        "# Задаем значения признаков для прогноза\n",
        "features = np.array([1, 106.0, 15.32, 3.71, 3.29, 55.99, 1.35, 2.42])\n",
        "# Вычисляем прогноз выработки газа\n",
        "prediction = np.dot(features, coefficients)\n",
        "print(f\"Прогноз выработки газа для данной скважины: {prediction} миллионов кубических футов в день\")"
      ]
    },
    {
      "cell_type": "code",
      "execution_count": 196,
      "id": "0f0e9965",
      "metadata": {},
      "outputs": [
        {
          "name": "stdout",
          "output_type": "stream",
          "text": [
            "Абсолютная ошибка прогноза: 33.055 миллионов кубических футов в день\n"
          ]
        }
      ],
      "source": [
        "# Рассчитываем абсолютную ошибку прогноза\n",
        "actual_production = 4748.315024\n",
        "absolute_error = abs(prediction - actual_production)\n",
        "print(f\"Абсолютная ошибка прогноза: {absolute_error:.3f} миллионов кубических футов в день\")"
      ]
    },
    {
      "cell_type": "code",
      "execution_count": 197,
      "id": "0f2e2fe6",
      "metadata": {},
      "outputs": [
        {
          "name": "stdout",
          "output_type": "stream",
          "text": [
            "Среднеквадратическая ошибка: 39315.040\n",
            "Среднеквадратичное отклонение: 198.280\n",
            "Коэффициент детерминации: 0.960\n"
          ]
        }
      ],
      "source": [
        "# Вычисляем прогнозы для всех скважин\n",
        "predictions = np.dot(X, coeffs)\n",
        "\n",
        "# Вычисляем среднеквадратическую ошибку\n",
        "mse = np.mean((y - predictions) ** 2)\n",
        "\n",
        "# Среднеквадратичное отклонение \n",
        "rmse = mse**(1/2)\n",
        "\n",
        "# Вычисляем коэффициент детерминации\n",
        "ss_total = np.sum((y - np.mean(y)) ** 2)\n",
        "ss_residual = np.sum((y - predictions) ** 2)\n",
        "r_squared = 1 - (ss_residual / ss_total)\n",
        "\n",
        "print(f\"Среднеквадратическая ошибка: {mse:.3f}\")\n",
        "print(f\"Среднеквадратичное отклонение: {rmse:.3f}\")\n",
        "print(f\"Коэффициент детерминации: {r_squared:.3f}\")"
      ]
    },
    {
      "cell_type": "markdown",
      "id": "c9bee4bc",
      "metadata": {
        "id": "c9bee4bc"
      },
      "source": [
        "Полученные значения метрик позволяют оценить качество модели линейной регрессии для прогнозирования выработки газа для всех скважин из обучающего набора данных.\n",
        "\n",
        "1. Среднеквадратическая ошибка (Mean Squared Error, MSE) равна 39315.040. Эта метрика измеряет среднюю квадратичную разницу между прогнозами модели и фактическими значениями целевой переменной. Чем ниже значение MSE, тем лучше модель способна предсказывать значения целевой переменной. В данном случае, значение MSE равно 39384.741, что может считаться относительно низким и указывает на хорошую точность модели.\n",
        "2. Среднеквадратичное отклонение: 198.280 - мера разброса данных, показывает насколько прогноз отличается от среднего значения. \n",
        "\n",
        "3. Коэффициент детерминации (R-squared) равен 0.960. Эта метрика показывает, насколько хорошо модель объясняет изменение в целевой переменной по сравнению с простой моделью, которая всегда предсказывает среднее значение целевой переменной. Значение R-squared может варьироваться от 0 до 1, где 1 означает идеальное соответствие между моделью и данными. В данном случае, значение R-squared равно 0.960, что говорит о том, что модель объясняет около 94.9% изменчивости целевой переменной, что является очень хорошим результатом.\n",
        "\n",
        "Таким образом, на основе полученных метрик можно сделать вывод, что модель линейной регрессии хорошо предсказывает выработку газа для скважин из обучающего набора данных. Однако, для окончательной оценки качества модели рекомендуется провести ее валидацию на независимом тестовом наборе данных."
      ]
    },
    {
      "cell_type": "markdown",
      "id": "0c25c3aa",
      "metadata": {
        "id": "0c25c3aa"
      },
      "source": [
        "### Задание 5.4. (1 балл)\n",
        "\n",
        "Настало время анализа построенной модели. Посмотрите на коэффициенты и сравните их знаки со значениями выборочных корреляций между целевым признаком и факторами, которые вы нашли ранее.\n",
        "\n",
        "Дайте развёрнутые ответы на следующие вопросы:\n",
        "\n",
        "* Есть ли в вашей модели фактор, при котором коэффициент в модели линейной регрессии противоречит соответствующему коэффициенту корреляции? Например, корреляция говорит, что зависимость между фактором и целевой переменной прямая, а модель говорит обратное. Если таких факторов несколько, укажите их все.\n",
        "* Как вы считаете, с чем связано полученное противоречие результатов?"
      ]
    },
    {
      "cell_type": "markdown",
      "id": "ngJ3UdYb6Ll6",
      "metadata": {
        "id": "ngJ3UdYb6Ll6"
      },
      "source": [
        "**Критерии оценивания:**\n",
        "\n",
        "- Задание выполнено верно, даны корректные развёрнутые ответы на все поставленные в задании вопросы (**1 балл**). \n",
        "\n",
        "- Задание выполнено неверно, даны некорректные ответы на один или несколько поставленных в задании вопросов (**0 баллов**)."
      ]
    },
    {
      "cell_type": "code",
      "execution_count": 198,
      "id": "v-zIxRPY9wK7",
      "metadata": {
        "id": "v-zIxRPY9wK7"
      },
      "outputs": [
        {
          "name": "stdout",
          "output_type": "stream",
          "text": [
            "Well       0.026817\n",
            "Por        0.861910\n",
            "Perm       0.727426\n",
            "AI        -0.390835\n",
            "Brittle    0.237155\n",
            "TOC        0.654445\n",
            "VR         0.323182\n",
            "Prod       1.000000\n",
            "Name: Prod, dtype: float64\n"
          ]
        }
      ],
      "source": [
        "# Вычисление выборочных корреляций с целевым признаком (Prod)\n",
        "correlations = data.corr()['Prod']\n",
        "\n",
        "# Вывод результатов\n",
        "print(correlations)"
      ]
    },
    {
      "cell_type": "markdown",
      "id": "qeowwIp99yBf",
      "metadata": {
        "id": "qeowwIp99yBf"
      },
      "source": [
        "Для ответа на вопросы, проанализируем коэффициенты линейной регрессии и соответствующие им значения выборочных корреляций:\n",
        "\n",
        "Коэффициенты линейной регрессии:\n",
        "- ones: -1232\n",
        "- Well: 0\n",
        "- Por: 230\n",
        "- Perm: 116\n",
        "- AI: -365\n",
        "- Brittle: 25\n",
        "- TOC: -78\n",
        "- VR: 785\n",
        "\n",
        "Выборочные корреляции с целевым признаком (Prod):\n",
        "- Well: 0.026817\n",
        "- Por: 0.861910\n",
        "- Perm: 0.727426\n",
        "- AI: -0.390835\n",
        "- Brittle: 0.237155\n",
        "- TOC: 0.654445\n",
        "- VR: 0.323182\n",
        "\n",
        "Ответы на вопросы:\n",
        "\n",
        "1. Есть ли в вашей модели фактор, при котором коэффициент в модели линейной регрессии противоречит соответствующему коэффициенту корреляции?\n",
        "\n",
        "Для фактора TOC (общее содержание органического углерода) коэффициент линейной регрессии составляет -78, что указывает на отрицательную связь с целевым признаком (Prod). Коэффициент корреляции для фактора TOC равен 0.654445, что указывает на положительную связь с целевым признаком. Таким образом, значения коэффициентов регрессии и корреляции противоречат друг другу в данном случае.\n",
        "\n",
        "Для более точного анализа и понимания связи между фактором TOC и целевым признаком Prod, может потребоваться использование более сложных моделей или методов, которые учитывают нелинейности или взаимодействия между переменными.\n",
        "\n",
        "2. Как вы считаете, с чем связано полученное противоречие результатов?\n",
        "\n",
        "- Это может означать, что модель линейной регрессии не улавливает все сложности и нелинейные зависимости между фактором TOC и целевым признаком Prod. Также возможно, что фактор TOC имеет слабую линейную связь с целевым признаком, которая не может быть полностью учтена в модели линейной регрессии.\n",
        "\n",
        "- Полученное противоречие результатов может быть связано с мультиколлинеарностью или линейной зависимостью между факторами в модели. Когда факторы в модели сильно коррелируют друг с другом, например у нас есть пара скоррелированных признаков Por - TOC, это может привести к нестабильности оценок коэффициентов регрессии, что может проявиться в противоречии между коэффициентами регрессии и соответствующими коэффициентами корреляции. В данном случа фактор TOC коррелирует с другим фактором в модели, что приводит к несостоятельным оценкам его влияния на целевой признак Prod."
      ]
    },
    {
      "cell_type": "markdown",
      "id": "9cea9195",
      "metadata": {
        "id": "9cea9195"
      },
      "source": [
        "### Задание 5.5. (2 балла)\n",
        "\n",
        "* Исключите из данных сильно коррелированные между собой факторы. Под сильной корреляцией в данной задаче будем понимать значения выше `0.7`.\n",
        "\n",
        "Выбирая, какой из коррелированных факторов оставить, руководствуйтесь коэффициентом корреляции с целевой переменной: оставляйте тот фактор, который больше всего коррелирует с целевой переменной (объёмом добычи газа).\n",
        "\n",
        "* Также исключите из данных факторы, для которых корреляция с целевой переменной меньше `0.05`.\n",
        "\n",
        "Постройте модель линейной регрессии на обновлённых после удаления факторов данных по методу наименьших квадратов. Для этого используйте матричную формулу и библиотеку numpy. Выведите значение полученных коэффициентов, округлённых до целого.\n",
        "\n",
        "Сделайте прогноз для всего обучающего набора данных и рассчитайте выбранную вами ранее метрику (или метрики). \n",
        "\n",
        "Дайте подробные ответы на следующие вопросы:\n",
        "\n",
        "* Приведите интерпретацию нескольких полученных коэффициентов (двух или трёх). Сравните их значения с полученными ранее.\n",
        "* Приведите интерпретацию полученных значений метрик. Сравните их значения с полученными ранее. \n",
        "* Удалось ли вам побороть противоречие коэффициентов линейной регрессии и коэффициентов корреляции?"
      ]
    },
    {
      "cell_type": "markdown",
      "id": "vlUYVjJP6oXN",
      "metadata": {
        "id": "vlUYVjJP6oXN"
      },
      "source": [
        "**Критерии оценивания:**\n",
        "- Задание выполнено верно, учтены все условия (**2 балла**): \n",
        "    * отобраны верные факторы;\n",
        "    * на основе отобранных факторов построена модель линейной регрессии с помощью матричной формулы МНК и найдены параметры модели, соответствующие каждому из факторов;\n",
        "    * построен прогноз для всего обучающего набора данных и рассчитано значение метрики (метрика должна быть выбрана корректно);\n",
        "    * даны ответы на все поставленные в задании вопросы.\n",
        "\n",
        "- Задание выполнено верно, но не учтено одно из условий (**1 балл**).\n",
        "- Задание выполнено верно, не учтено несколько из условий (**0 баллов**)."
      ]
    },
    {
      "cell_type": "code",
      "execution_count": 199,
      "id": "5d5ZJ0lX_UHe",
      "metadata": {
        "id": "5d5ZJ0lX_UHe"
      },
      "outputs": [
        {
          "data": {
            "text/html": [
              "<div>\n",
              "<style scoped>\n",
              "    .dataframe tbody tr th:only-of-type {\n",
              "        vertical-align: middle;\n",
              "    }\n",
              "\n",
              "    .dataframe tbody tr th {\n",
              "        vertical-align: top;\n",
              "    }\n",
              "\n",
              "    .dataframe thead th {\n",
              "        text-align: right;\n",
              "    }\n",
              "</style>\n",
              "<table border=\"1\" class=\"dataframe\">\n",
              "  <thead>\n",
              "    <tr style=\"text-align: right;\">\n",
              "      <th></th>\n",
              "      <th>Well</th>\n",
              "      <th>Por</th>\n",
              "      <th>Perm</th>\n",
              "      <th>AI</th>\n",
              "      <th>Brittle</th>\n",
              "      <th>TOC</th>\n",
              "      <th>VR</th>\n",
              "    </tr>\n",
              "  </thead>\n",
              "  <tbody>\n",
              "    <tr>\n",
              "      <th>Well</th>\n",
              "      <td>1.000000</td>\n",
              "      <td>0.068927</td>\n",
              "      <td>0.077928</td>\n",
              "      <td>0.041483</td>\n",
              "      <td>-0.079252</td>\n",
              "      <td>0.022624</td>\n",
              "      <td>-0.007279</td>\n",
              "    </tr>\n",
              "    <tr>\n",
              "      <th>Por</th>\n",
              "      <td>0.068927</td>\n",
              "      <td>1.000000</td>\n",
              "      <td>0.760546</td>\n",
              "      <td>-0.461549</td>\n",
              "      <td>-0.218570</td>\n",
              "      <td>0.711831</td>\n",
              "      <td>0.111860</td>\n",
              "    </tr>\n",
              "    <tr>\n",
              "      <th>Perm</th>\n",
              "      <td>0.077928</td>\n",
              "      <td>0.760546</td>\n",
              "      <td>1.000000</td>\n",
              "      <td>-0.239636</td>\n",
              "      <td>-0.124017</td>\n",
              "      <td>0.471746</td>\n",
              "      <td>0.051023</td>\n",
              "    </tr>\n",
              "    <tr>\n",
              "      <th>AI</th>\n",
              "      <td>0.041483</td>\n",
              "      <td>-0.461549</td>\n",
              "      <td>-0.239636</td>\n",
              "      <td>1.000000</td>\n",
              "      <td>0.127599</td>\n",
              "      <td>-0.531864</td>\n",
              "      <td>0.499143</td>\n",
              "    </tr>\n",
              "    <tr>\n",
              "      <th>Brittle</th>\n",
              "      <td>-0.079252</td>\n",
              "      <td>-0.218570</td>\n",
              "      <td>-0.124017</td>\n",
              "      <td>0.127599</td>\n",
              "      <td>1.000000</td>\n",
              "      <td>-0.214282</td>\n",
              "      <td>0.317929</td>\n",
              "    </tr>\n",
              "    <tr>\n",
              "      <th>TOC</th>\n",
              "      <td>0.022624</td>\n",
              "      <td>0.711831</td>\n",
              "      <td>0.471746</td>\n",
              "      <td>-0.531864</td>\n",
              "      <td>-0.214282</td>\n",
              "      <td>1.000000</td>\n",
              "      <td>0.299483</td>\n",
              "    </tr>\n",
              "    <tr>\n",
              "      <th>VR</th>\n",
              "      <td>-0.007279</td>\n",
              "      <td>0.111860</td>\n",
              "      <td>0.051023</td>\n",
              "      <td>0.499143</td>\n",
              "      <td>0.317929</td>\n",
              "      <td>0.299483</td>\n",
              "      <td>1.000000</td>\n",
              "    </tr>\n",
              "  </tbody>\n",
              "</table>\n",
              "</div>"
            ],
            "text/plain": [
              "             Well       Por      Perm        AI   Brittle       TOC        VR\n",
              "Well     1.000000  0.068927  0.077928  0.041483 -0.079252  0.022624 -0.007279\n",
              "Por      0.068927  1.000000  0.760546 -0.461549 -0.218570  0.711831  0.111860\n",
              "Perm     0.077928  0.760546  1.000000 -0.239636 -0.124017  0.471746  0.051023\n",
              "AI       0.041483 -0.461549 -0.239636  1.000000  0.127599 -0.531864  0.499143\n",
              "Brittle -0.079252 -0.218570 -0.124017  0.127599  1.000000 -0.214282  0.317929\n",
              "TOC      0.022624  0.711831  0.471746 -0.531864 -0.214282  1.000000  0.299483\n",
              "VR      -0.007279  0.111860  0.051023  0.499143  0.317929  0.299483  1.000000"
            ]
          },
          "execution_count": 199,
          "metadata": {},
          "output_type": "execute_result"
        }
      ],
      "source": [
        "#X - матрица наблюдений, y - столбец правильных ответов\n",
        "X = data.drop('Prod', axis=1)\n",
        "y = data['Prod']\n",
        "# Матрица данных\n",
        "X.corr()"
      ]
    },
    {
      "cell_type": "code",
      "execution_count": 200,
      "id": "d00aacd0",
      "metadata": {},
      "outputs": [
        {
          "name": "stdout",
          "output_type": "stream",
          "text": [
            "[('Por', 'Perm'), ('Por', 'TOC')]\n"
          ]
        }
      ],
      "source": [
        "# выделим пары сильно скоррелированных признаков (более 0.7)\n",
        "corr_matrix = X.corr().abs()\n",
        "high_corr_var_pairs = [(corr_matrix.columns[i], corr_matrix.columns[j]) for i in range(len(corr_matrix.columns)) for j in range(i+1, len(corr_matrix.columns)) if corr_matrix.iloc[i,j] > 0.7]\n",
        "\n",
        "print(high_corr_var_pairs)"
      ]
    },
    {
      "cell_type": "code",
      "execution_count": 201,
      "id": "014299fc",
      "metadata": {},
      "outputs": [
        {
          "name": "stdout",
          "output_type": "stream",
          "text": [
            "[('Well', 'AI'), ('Well', 'TOC'), ('Well', 'VR')]\n"
          ]
        }
      ],
      "source": [
        "# выделим пары мало скоррелированных признаков (менее 0.05)\n",
        "corr_matrix = X.corr().abs()\n",
        "less_corr_var_pairs = [(corr_matrix.columns[i], corr_matrix.columns[j]) for i in range(len(corr_matrix.columns)) for j in range(i+1, len(corr_matrix.columns)) if corr_matrix.iloc[i,j] < 0.05]\n",
        "\n",
        "print(less_corr_var_pairs)"
      ]
    },
    {
      "cell_type": "code",
      "execution_count": 202,
      "id": "215e3773",
      "metadata": {},
      "outputs": [],
      "source": [
        "# Удалим признаки 'Por', 'Well'\n",
        "X_new = X.drop(['Por', 'Well'], axis = 1)"
      ]
    },
    {
      "cell_type": "code",
      "execution_count": 203,
      "id": "70b62bf9",
      "metadata": {},
      "outputs": [
        {
          "data": {
            "text/html": [
              "<div>\n",
              "<style scoped>\n",
              "    .dataframe tbody tr th:only-of-type {\n",
              "        vertical-align: middle;\n",
              "    }\n",
              "\n",
              "    .dataframe tbody tr th {\n",
              "        vertical-align: top;\n",
              "    }\n",
              "\n",
              "    .dataframe thead th {\n",
              "        text-align: right;\n",
              "    }\n",
              "</style>\n",
              "<table border=\"1\" class=\"dataframe\">\n",
              "  <thead>\n",
              "    <tr style=\"text-align: right;\">\n",
              "      <th></th>\n",
              "      <th>Perm</th>\n",
              "      <th>AI</th>\n",
              "      <th>Brittle</th>\n",
              "      <th>TOC</th>\n",
              "      <th>VR</th>\n",
              "    </tr>\n",
              "  </thead>\n",
              "  <tbody>\n",
              "    <tr>\n",
              "      <th>Perm</th>\n",
              "      <td>1.000000</td>\n",
              "      <td>-0.239636</td>\n",
              "      <td>-0.124017</td>\n",
              "      <td>0.471746</td>\n",
              "      <td>0.051023</td>\n",
              "    </tr>\n",
              "    <tr>\n",
              "      <th>AI</th>\n",
              "      <td>-0.239636</td>\n",
              "      <td>1.000000</td>\n",
              "      <td>0.127599</td>\n",
              "      <td>-0.531864</td>\n",
              "      <td>0.499143</td>\n",
              "    </tr>\n",
              "    <tr>\n",
              "      <th>Brittle</th>\n",
              "      <td>-0.124017</td>\n",
              "      <td>0.127599</td>\n",
              "      <td>1.000000</td>\n",
              "      <td>-0.214282</td>\n",
              "      <td>0.317929</td>\n",
              "    </tr>\n",
              "    <tr>\n",
              "      <th>TOC</th>\n",
              "      <td>0.471746</td>\n",
              "      <td>-0.531864</td>\n",
              "      <td>-0.214282</td>\n",
              "      <td>1.000000</td>\n",
              "      <td>0.299483</td>\n",
              "    </tr>\n",
              "    <tr>\n",
              "      <th>VR</th>\n",
              "      <td>0.051023</td>\n",
              "      <td>0.499143</td>\n",
              "      <td>0.317929</td>\n",
              "      <td>0.299483</td>\n",
              "      <td>1.000000</td>\n",
              "    </tr>\n",
              "  </tbody>\n",
              "</table>\n",
              "</div>"
            ],
            "text/plain": [
              "             Perm        AI   Brittle       TOC        VR\n",
              "Perm     1.000000 -0.239636 -0.124017  0.471746  0.051023\n",
              "AI      -0.239636  1.000000  0.127599 -0.531864  0.499143\n",
              "Brittle -0.124017  0.127599  1.000000 -0.214282  0.317929\n",
              "TOC      0.471746 -0.531864 -0.214282  1.000000  0.299483\n",
              "VR       0.051023  0.499143  0.317929  0.299483  1.000000"
            ]
          },
          "execution_count": 203,
          "metadata": {},
          "output_type": "execute_result"
        }
      ],
      "source": [
        "A = X_new.corr()\n",
        "A"
      ]
    },
    {
      "cell_type": "code",
      "execution_count": 204,
      "id": "8c59f65e",
      "metadata": {},
      "outputs": [
        {
          "name": "stdout",
          "output_type": "stream",
          "text": [
            "Rank: 5\n",
            "Determinant: 0.0806246\n"
          ]
        }
      ],
      "source": [
        "print('Rank:', np.linalg.matrix_rank(A))\n",
        "print('Determinant: {:.7f}'.format(np.linalg.det(A)))"
      ]
    },
    {
      "cell_type": "markdown",
      "id": "902b500a",
      "metadata": {},
      "source": [
        "Определитель улучшился. Посмотрим, на коэффициенты и метрики. "
      ]
    },
    {
      "cell_type": "code",
      "execution_count": 205,
      "id": "36d2563c",
      "metadata": {},
      "outputs": [
        {
          "name": "stdout",
          "output_type": "stream",
          "text": [
            "ones: 1587\n",
            "Perm: 348\n",
            "AI: -875\n",
            "Brittle: 16\n",
            "TOC: 27\n",
            "VR: 1531\n"
          ]
        }
      ],
      "source": [
        "# Создание матрицы наблюдений X_new_matrix\n",
        "X_new_matrix = np.array([\n",
        "    data['Perm'],\n",
        "    data['AI'],\n",
        "    data['Brittle'],\n",
        "    data['TOC'],\n",
        "    data['VR']\n",
        "]).T\n",
        "\n",
        "# Создание вектора целевых значений y\n",
        "y = np.array(data['Prod'])\n",
        "\n",
        "# Добавление столбца из единиц к матрице X_new_matrix для учета свободного члена\n",
        "X_new_matrix = np.column_stack((np.ones(len(X_new_matrix)), X_new_matrix))\n",
        "\n",
        "# Вычисление коэффициентов с использованием метода наименьших квадратов\n",
        "coeffs_new = np.linalg.inv(X_new_matrix.T @ X_new_matrix) @ X_new_matrix.T @ y\n",
        "\n",
        "# Вывод вектора весов с подписями столбцов\n",
        "for feature, weight in zip(['ones', 'Perm', 'AI', 'Brittle', 'TOC', 'VR'], np.round(coeffs_new).astype(int)):\n",
        "    print(f'{feature}: {weight}')\n",
        "    "
      ]
    },
    {
      "cell_type": "code",
      "execution_count": 206,
      "id": "f76783f7",
      "metadata": {},
      "outputs": [
        {
          "name": "stdout",
          "output_type": "stream",
          "text": [
            "Среднеквадратическая ошибка new: 146915.504\n",
            "Среднеквадратичное отклонение new: 383.296\n",
            "Коэффициент детерминации new: 0.850\n"
          ]
        }
      ],
      "source": [
        "# Вычисляем прогнозы для всех скважин\n",
        "predictions_new = np.dot(X_new_matrix, coeffs_new)\n",
        "\n",
        "# Вычисляем среднеквадратическую ошибку\n",
        "mse_new = np.mean((y - predictions_new) ** 2)\n",
        "# Среднеквадратичное отклонение \n",
        "rmse_new = mse_new**(1/2)\n",
        "\n",
        "# Вычисляем коэффициент детерминации\n",
        "ss_total = np.sum((y - np.mean(y)) ** 2)\n",
        "ss_residual = np.sum((y - predictions_new) ** 2)\n",
        "r_squared_new = 1 - (ss_residual / ss_total)\n",
        "\n",
        "print(f\"Среднеквадратическая ошибка new: {mse_new:.3f}\")\n",
        "print(f\"Среднеквадратичное отклонение new: {rmse_new:.3f}\")\n",
        "print(f\"Коэффициент детерминации new: {r_squared_new:.3f}\")"
      ]
    },
    {
      "cell_type": "code",
      "execution_count": 207,
      "id": "dd8f32b8",
      "metadata": {},
      "outputs": [],
      "source": [
        "X = X_new['Perm']"
      ]
    },
    {
      "cell_type": "code",
      "execution_count": 208,
      "id": "b531c21f",
      "metadata": {},
      "outputs": [
        {
          "data": {
            "image/png": "[encoded data removed]",
            "text/plain": [
              "<Figure size 800x400 with 1 Axes>"
            ]
          },
          "metadata": {},
          "output_type": "display_data"
        }
      ],
      "source": [
        "def plot_regression_2d(X, y_true, y_predict, xlabel='Perm', ylabel='Prod'):\n",
        "    fig, ax = plt.subplots(figsize=(8, 4))\n",
        "    \n",
        "    # Сортируем значения X\n",
        "    sorted_indices = np.argsort(X)\n",
        "    X_sorted = X[sorted_indices]\n",
        "    y_true_sorted = y_true[sorted_indices]\n",
        "    y_predict_sorted = y_predict[sorted_indices]\n",
        "    \n",
        "    ax.scatter(X_sorted, y_true_sorted, alpha=0.7, label='Sample data')\n",
        "    ax.plot(X_sorted, y_predict_sorted, color='black', label='Regression model')\n",
        "    ax.set_xlabel(xlabel)\n",
        "    ax.set_ylabel(ylabel)\n",
        "    ax.legend(facecolor='white', fontsize=11)\n",
        "    \n",
        "# Строим визуализацию\n",
        "plot_regression_2d(X, y, predictions_new)"
      ]
    },
    {
      "cell_type": "markdown",
      "id": "e6beb05e",
      "metadata": {},
      "source": [
        "Вспомним, какие данные были получены на неочищенных данных."
      ]
    },
    {
      "cell_type": "code",
      "execution_count": 209,
      "id": "0fa9c703",
      "metadata": {},
      "outputs": [
        {
          "name": "stdout",
          "output_type": "stream",
          "text": [
            "Разница Среднеквадратическая ошибка: -107600.46368040898\n",
            "Разница Среднеквадратичное отклонение -185.01537671158883\n",
            "Разница Коэффициент детерминации: 0.10988390464286646\n"
          ]
        }
      ],
      "source": [
        "# Разница с предыдущими показателями\n",
        "print(\"Разница Среднеквадратическая ошибка:\", mse - mse_new)\n",
        "print(\"Разница Среднеквадратичное отклонение\", rmse -rmse_new)\n",
        "print(\"Разница Коэффициент детерминации:\", r_squared - r_squared_new )"
      ]
    },
    {
      "cell_type": "markdown",
      "id": "KxbYvMDo_WLe",
      "metadata": {
        "id": "KxbYvMDo_WLe"
      },
      "source": [
        "1. Приведите интерпретацию нескольких полученных коэффициентов (двух или трёх). Сравните их значения с полученными ранее.\n",
        "Коэффициенты, полученные ранее: \n",
        "\n",
        "- ones: -1232\n",
        "- Well: 0\n",
        "- Por: 230\n",
        "- Perm: 116\n",
        "- AI: -365\n",
        "- Brittle: 25\n",
        "- TOC: -78\n",
        "- VR: 785\n",
        "\n",
        "Коэффициенты полученные после удаления факторов с высокой и низкой корреляцией: \n",
        "\n",
        "- ones: 1587\n",
        "- Perm: 348\n",
        "- AI: -875\n",
        "- Brittle: 16\n",
        "- TOC: 27\n",
        "- VR: 1531\n",
        " \n",
        "\n",
        "Интерпретация коэффициентов:\n",
        "\n",
        "\n",
        "- Индекс акустической импедансии (AI): Коэффициент -875 указывает на отрицательную зависимость между индексом акустической импедансии и целевой переменной. Это означает, что с увеличением значения индекса акустической импедансии ожидается уменьшение значения целевой переменной.\n",
        "\n",
        "- Хрупкость (Brittle): Коэффициент 16 указывает на положительную зависимость между хрупкостью и целевой переменной. Это означает, что с увеличением хрупкости ожидается увеличение значения целевой переменной.\n",
        "\n",
        "- Объемный коэффициент отражения (VR): Коэффициент 1531 указывает на положительную зависимость между объемным коэффициентом отражения и целевой переменной. Это означает, что с увеличением значения объемного коэффициента отражения ожидается увеличение значения целевой переменной.\n",
        "\n",
        "Сравнивая эти значения с предыдущими коэффициентами, можно заметить, что некоторые коэффициенты изменились. Например, коэффициент Brittle уменьшился с 25 до 16, а коэффициенты AI и VR изменились сильнее в два раза, а коэффициент ТОС стал положительным и перестал противоречить знаком с корреляцией. Это может указывать на то, что удаление факторов с высокой и низкой корреляцией помогло уточнить влияние этих признаков на целевую переменную.\n",
        "\n",
        "* Приведите интерпретацию полученных значений метрик. Сравните их значения с полученными ранее. \n",
        "\n",
        "Все коэффициенты ухудшились:\n",
        "\n",
        "Разница Среднеквадратическая ошибка: -107530.76301939719\n",
        "Разница Среднеквадратичное отклонение -184.83969151061962\n",
        "Разница Коэффициент детерминации: 0.10981272483075233\n",
        "\n",
        "* Удалось ли вам побороть противоречие коэффициентов линейной регрессии и коэффициентов корреляции?\n",
        "\n",
        "Да удалось.\n",
        "\n",
        "#### Так же дополнительно я построила график, на котором виден большой разброс(variance), т.е переобучение. Т.к предсказание и обучение происходит на всем наборе данных!"
      ]
    },
    {
      "cell_type": "markdown",
      "id": "7d50db12",
      "metadata": {
        "id": "7d50db12"
      },
      "source": [
        "### Задание 5.6. (1 балл)\n",
        "\n",
        "Наконец, давайте построим модель линейной регрессии из библиотеки `scikit-learn (sklearn)` и сравним результаты её работы с теми, что нам удалось получить вручную. \n",
        "\n",
        "Постройте модель линейной регрессии на обновлённых после удаления факторов данных по методу наименьших квадратов. Для этого воспользуйтесь классом `LinearRegression` из библиотеки `sklearn`. Выведите значения полученных коэффициентов, округлённые до целого.\n",
        "\n",
        "Сделайте прогноз для всего обучающего набора данных и рассчитайте значение выбранной вами метрики (или метрик).\n",
        "\n",
        "Сравните результаты библиотечной реализации с тем, что вы получили ранее. "
      ]
    },
    {
      "cell_type": "markdown",
      "id": "emu5D3w278JP",
      "metadata": {
        "id": "emu5D3w278JP"
      },
      "source": [
        "**Критерии оценивания:**\n",
        "\n",
        "- Задание выполнено верно, учтены все условия (**1 балл**): \n",
        "    * на основе отобранных факторов построена модель линейной регрессии из библиотеки sklearn и найдены параметры модели, соответствующие каждому из факторов;\n",
        "    * построен прогноз для всего обучающего набора данных и рассчитано значение метрики (метрика должна быть выбрана корректно);\n",
        "    * приведён вывод о соответствии результатов, полученных вручную и с помощью библиотеки.\n",
        "- Задание выполнено неверно, не учтено одно или несколько условий (**0 баллов**)."
      ]
    },
    {
      "cell_type": "code",
      "execution_count": 210,
      "id": "Gpdpfq59AKGu",
      "metadata": {
        "id": "Gpdpfq59AKGu"
      },
      "outputs": [
        {
          "name": "stdout",
          "output_type": "stream",
          "text": [
            "Perm: 348\n",
            "AI: -875\n",
            "Brittle: 16\n",
            "TOC: 27\n",
            "VR: 1531\n"
          ]
        }
      ],
      "source": [
        "# Создаем объект модели линейной регрессии\n",
        "model = LinearRegression(fit_intercept=True)\n",
        "\n",
        "# Обучаем модель на обновленных данных\n",
        "model.fit(X_new, y)\n",
        "rounded_coefficients_sklearn = np.round(model.coef_, decimals=0)\n",
        "\n",
        "# Вывод вектора весов с подписями столбцов\n",
        "for feature, weight in zip(['Perm', 'AI', 'Brittle', 'TOC', 'VR'], np.round(rounded_coefficients_sklearn).astype(int)):\n",
        "    print(f'{feature}: {weight}')\n",
        "\n"
      ]
    },
    {
      "cell_type": "code",
      "execution_count": 211,
      "id": "a85e2a38",
      "metadata": {},
      "outputs": [
        {
          "name": "stdout",
          "output_type": "stream",
          "text": [
            "Среднеквадратическая ошибка new: 146915.504\n",
            "Среднеквадратичное отклонение new: 383.296\n",
            "Коэффициент детерминации new: 0.850\n"
          ]
        }
      ],
      "source": [
        "\n",
        "# Делаем прогноз для всего обучающего набора данных\n",
        "y_pred_sklearn = model.predict(X_new)\n",
        "\n",
        "# Вычисляем среднеквадратическую ошибку\n",
        "mse_sklearn = np.mean((y - y_pred_sklearn) ** 2)\n",
        "# Среднеквадратичное отклонение \n",
        "rmse_sklearn = mse_sklearn**(1/2)\n",
        "\n",
        "# Вычисляем коэффициент детерминации\n",
        "ss_total = np.sum((y - np.mean(y)) ** 2)\n",
        "ss_residual = np.sum((y - y_pred_sklearn) ** 2)\n",
        "r_squared_sklearn = 1 - (ss_residual / ss_total)\n",
        "\n",
        "\n",
        "print(f\"Среднеквадратическая ошибка new: {mse_sklearn:.3f}\")\n",
        "print(f\"Среднеквадратичное отклонение new: {rmse_sklearn:.3f}\")\n",
        "print(f\"Коэффициент детерминации new: {r_squared_sklearn:.3f}\")\n"
      ]
    },
    {
      "cell_type": "code",
      "execution_count": 212,
      "id": "24ac3e87",
      "metadata": {},
      "outputs": [],
      "source": [
        "X = X_new['Perm']"
      ]
    },
    {
      "cell_type": "code",
      "execution_count": 213,
      "id": "50375a92",
      "metadata": {},
      "outputs": [
        {
          "data": {
            "image/png": "[encoded data removed]",
            "text/plain": [
              "<Figure size 800x400 with 1 Axes>"
            ]
          },
          "metadata": {},
          "output_type": "display_data"
        }
      ],
      "source": [
        "def plot_regression_2d(X, y_true, y_predict, xlabel='Perm', ylabel='Prod'):\n",
        "    fig, ax = plt.subplots(figsize=(8, 4))\n",
        "    \n",
        "    # Сортируем значения X\n",
        "    sorted_indices = np.argsort(X)\n",
        "    X_sorted = X[sorted_indices]\n",
        "    y_true_sorted = y_true[sorted_indices]\n",
        "    y_predict_sorted = y_predict[sorted_indices]\n",
        "    \n",
        "    ax.scatter(X_sorted, y_true_sorted, alpha=0.7, label='Sample data')\n",
        "    ax.plot(X_sorted, y_predict_sorted, color='black', label='Regression model')\n",
        "    ax.set_xlabel(xlabel)\n",
        "    ax.set_ylabel(ylabel)\n",
        "    ax.legend(facecolor='white', fontsize=11)\n",
        "    \n",
        "# Строим визуализацию\n",
        "plot_regression_2d(X, y, y_pred_sklearn)"
      ]
    },
    {
      "cell_type": "markdown",
      "id": "WT9cdHAbAMG7",
      "metadata": {
        "id": "WT9cdHAbAMG7"
      },
      "source": [
        "1. Разница коэффициентов:\n",
        "Коэф. полученные с помощью numpy:\n",
        "- ones: 1587\n",
        "- Perm: 348\n",
        "- AI: -875\n",
        "- Brittle: 16\n",
        "- TOC: 27\n",
        "- VR: 1531\n",
        "\n",
        "Коэф. полученные с помощью LinearRegression:\n",
        "\n",
        "- Perm: 348\n",
        "- AI: -875\n",
        "- Brittle: 16\n",
        "- TOC: 27\n",
        "- VR: 1531\n",
        "\n",
        "Получили одинаковые коэффициенты. \n",
        "\n",
        "При использовании модели линейной регрессии возможно переобучение, которое проявляется в высоком разбросе (variance) предсказаний модели. Это может происходить, когда модель слишком сложна для представленных данных или когда у вас недостаточно данных для обучения модели.\n",
        "\n",
        "#### Судя по графику у нас классический случай переобучения. Т.к мы е разделяли выборки, а делали прогноз на всем обучающем наборе данных, как указано в задании!\n",
        "\n",
        "Чтобы уменьшить проблему переобучения и снизить разброс предсказаний, можно применить следующие методы:\n",
        "\n",
        "1. Регуляризация: Добавление регуляризации в модель может помочь уменьшить переобучение. Два наиболее распространенных вида регуляризации - L1 (лассо) и L2 (гребневая). Регуляризация штрафует модель за большие значения коэффициентов, что помогает снизить их влияние на предсказания.\n",
        "\n",
        "2. Подбор оптимального количества признаков: Переобучение может происходить, когда слишком много признаков, которые могут быть коррелированы или неинформативны. Необходимо отобрать наиболее важные признаки или использовать методы отбора признаков, такие как рекурсивное исключение признаков (Recursive Feature Elimination) или методы на основе регуляризации.\n",
        "\n",
        "3. Увеличение размера обучающей выборки: Если у вас недостаточно данных, модель может легко запомнить обучающую выборку, что приводит к переобучению. Попробуйте собрать больше данных или использовать методы аугментации данных для создания дополнительных примеров.\n",
        "\n",
        "4. Кросс-валидация: Использование кросс-валидации поможет оценить производительность модели на независимых данных и выбрать оптимальные гиперпараметры модели, такие как коэффициент регуляризации.\n",
        "\n",
        "5. Снижение сложности модели: Если модель слишком сложна, попробуйте уменьшить количество признаков или упростить модель. Например, можно использовать полиномиальные признаки с более низкими степенями или выбрать модель с меньшим количеством параметров.\n",
        "\n",
        "Комбинирование этих методов может помочь уменьшить переобучение и улучшить производительность модели линейной регрессии. Важно экспериментировать и настраивать параметры модели для достижения оптимального баланса между смещением и разбросом (bias-variance trade-off)."
      ]
    },
    {
      "cell_type": "markdown",
      "id": "5346338e",
      "metadata": {
        "id": "5346338e"
      },
      "source": [
        "## Практика: полиномиальная регрессия и регуляризация"
      ]
    },
    {
      "cell_type": "markdown",
      "id": "aad9e3a6",
      "metadata": {
        "id": "aad9e3a6"
      },
      "source": [
        "Мы продолжаем работать над задачей от владельца компании «Газ-Таз-Ваз-Нефть» Василия.\n",
        "\n",
        "Ранее мы построили модель линейной регрессии, которая прогнозирует выработку газа на скважине. Для этого мы с помощью матрицы корреляций и рассуждений отобрали некоррелированные, значимые для предсказания признаки. **Далее мы будем использовать именно их (см. задание 5.5).**\n",
        "\n",
        "Мы хотим улучшить результат — уменьшить ошибку прогноза. Для этого мы воспользуемся моделью полиномиальной регрессии третьей степени. Однако теперь мы знаем, что полиномиальным моделям очень легко переобучиться под исходную выборку. Так как данных у нас не так много (всего 200 скважин), то для контроля качества модели мы будем использовать кросс-валидацию. \n",
        "\n",
        "Приступим! Выполните задания 8.1–8.5:\n"
      ]
    },
    {
      "cell_type": "code",
      "execution_count": 214,
      "id": "18506d1b",
      "metadata": {
        "id": "18506d1b"
      },
      "outputs": [],
      "source": [
        "from sklearn.preprocessing import PolynomialFeatures, StandardScaler\n",
        "from sklearn.linear_model import LinearRegression, Lasso, Ridge, ElasticNet\n",
        "from sklearn.model_selection import GridSearchCV\n",
        "from sklearn.model_selection import cross_validate\n",
        "from sklearn.model_selection import cross_val_score\n",
        "from sklearn.metrics import get_scorer"
      ]
    },
    {
      "cell_type": "markdown",
      "id": "bfbfea8d",
      "metadata": {
        "id": "bfbfea8d"
      },
      "source": [
        "### Задание 8.1. (1 балл)\n",
        "\n",
        "Стандаризируйте признаки с помощью `StandartScaler` из библиотеки `sklearn`. \n",
        "\n",
        "Затем сгенерируйте полиномиальные признаки третьего порядка на факторах, которые вы выбрали для обучения моделей. Для этого воспользуйтесь генератором полиномов `PolynomialFeatures` из библиотеки `sklearn`. Параметр `include_bias` установите в значение `False`.\n",
        "\n",
        "Выведите на экран, сколько факторов у вас получилось после генерации полиномиальных признаков.\n",
        "\n",
        "**Важно:** стандартизацию необходимо произвести до генерации полиномиальных факторов!\n",
        "\n",
        "Обучите модель линейной регрессии из библиотеки `sklearn` (`LinearRegression`) на полученных полиномиальных факторах.\n",
        "\n",
        "Используя кросс-валидацию оцените среднее значение выбранной вами метрики (или метрик) на тренировочных и валидационных фолдах.\n",
        "\n",
        "Проинтерпретируйте полученные результаты."
      ]
    },
    {
      "cell_type": "markdown",
      "id": "Y8oAhQkr8gV-",
      "metadata": {
        "id": "Y8oAhQkr8gV-"
      },
      "source": [
        "**Критерии оценивания:**\n",
        "\n",
        "- Задание выполнено верно, учтены все условия (**1 балл**): \n",
        "    * на основе отобранных факторов сгенерированы полиномиальные признаки третьего порядка;\n",
        "    * построена модель полиномиальной регрессии (линейной регрессии на полиномиальных признаках);\n",
        "    * с помощью кросс-валидации оценено среднее значение выбранной студентом метрики (или метрик) на тренировочных и валидационных фолдах (метрика должна быть выбрана корректно).\n",
        "- Задание выполнено неверно, не учтено одно или несколько из условий (**0 баллов**)."
      ]
    },
    {
      "cell_type": "code",
      "execution_count": 215,
      "id": "-ln3bx8NFNRw",
      "metadata": {
        "id": "-ln3bx8NFNRw"
      },
      "outputs": [
        {
          "name": "stdout",
          "output_type": "stream",
          "text": [
            "Количество факторов после генерации полиномиальных признаков: 55\n"
          ]
        }
      ],
      "source": [
        "# Стандартизация признаков\n",
        "scaler = StandardScaler()\n",
        "X_scaled = scaler.fit_transform(X_new)\n",
        "\n",
        "# Генерация полиномиальных признаков третьего порядка\n",
        "poly = PolynomialFeatures(degree=3, include_bias=False)\n",
        "X_poly = poly.fit_transform(X_scaled)\n",
        "\n",
        "# Вывод количества полученных факторов\n",
        "num_features = X_poly.shape[1]\n",
        "print(\"Количество факторов после генерации полиномиальных признаков:\", num_features)"
      ]
    },
    {
      "cell_type": "code",
      "execution_count": 216,
      "id": "190d19d0",
      "metadata": {},
      "outputs": [],
      "source": [
        "from sklearn.linear_model import LinearRegression\n",
        "from sklearn.metrics import make_scorer, r2_score, mean_squared_error\n",
        "from sklearn.model_selection import cross_validate\n",
        "\n",
        "# Создание экземпляра модели линейной регрессии\n",
        "model = LinearRegression()\n",
        "\n",
        "# Оценка метрик с использованием кросс-валидации\n",
        "scoring = {'r2': make_scorer(r2_score), 'mse': make_scorer(mean_squared_error)}\n"
      ]
    },
    {
      "cell_type": "code",
      "execution_count": 217,
      "id": "18193297",
      "metadata": {},
      "outputs": [],
      "source": [
        "from sklearn import model_selection\n",
        "\n",
        "#Создаём объект кросс-валидатора KFold\n",
        "kf = model_selection.KFold(n_splits=5)\n",
        " \n",
        "#Считаем метрики на кросс-валидации k-fold\n",
        "cv_metrics = model_selection.cross_validate(\n",
        "    estimator=model, #модель\n",
        "    X=X_poly, #матрица наблюдений X\n",
        "    y=y, #вектор ответов y\n",
        "    cv=kf, #кросс-валидатор\n",
        "    scoring=scoring, #метрика\n",
        "    return_train_score=True #подсчёт метрики на тренировочных фолдах\n",
        ")\n"
      ]
    },
    {
      "cell_type": "code",
      "execution_count": 218,
      "id": "74db0c40",
      "metadata": {},
      "outputs": [
        {
          "name": "stdout",
          "output_type": "stream",
          "text": [
            "Train k-fold mean r2: 0.73\n",
            "Valid k-fold mean r2: 0.92\n",
            "Train k-fold mean mse: 255099.89\n",
            "Valid k-fold mean mse: 76514.00\n"
          ]
        }
      ],
      "source": [
        "print('Train k-fold mean r2: {:.2f}'.format(np.mean(cv_metrics['test_r2'])))\n",
        "print('Valid k-fold mean r2: {:.2f}'.format(np.mean(cv_metrics['train_r2'])))\n",
        "print('Train k-fold mean mse: {:.2f}'.format(np.mean(cv_metrics['test_mse'])))\n",
        "print('Valid k-fold mean mse: {:.2f}'.format(np.mean(cv_metrics['train_mse'])))"
      ]
    },
    {
      "cell_type": "markdown",
      "id": "9DkuuLLtFPPy",
      "metadata": {
        "id": "9DkuuLLtFPPy"
      },
      "source": [
        "1. Среднее значение точности (accuracy) на тренировочных фолдах составляет 0.73. Это означает, что модель правильно классифицирует около 73% образцов в тренировочных данных.\n",
        "\n",
        "2. Среднее значение точности (accuracy) на валидационных фолдах составляет 0.92. Это высокое значение точности на валидационных фолдах указывает на то, что модель хорошо обобщает и правильно классифицирует новые, неизвестные данные.\n",
        "\n",
        "3. Среднее значение среднеквадратичной ошибки (MSE) на тренировочных фолдах составляет 255099.89. MSE представляет собой среднее значение квадратов разностей между истинными значениями и предсказанными значениями. Значение 255099.89 может указывать на то, что модель в среднем ошибается на данную величину при предсказании тренировочных данных.\n",
        "\n",
        "4. Среднее значение среднеквадратичной ошибки (MSE) на валидационных фолдах составляет 76514.00. Значение MSE на валидационных фолдах указывает на то, что модель в среднем ошибается на данную величину при предсказании валидационных данных."
      ]
    },
    {
      "cell_type": "markdown",
      "id": "63d06013",
      "metadata": {
        "id": "63d06013"
      },
      "source": [
        "### Задание 8.2. (2 балла)\n",
        "\n",
        "Теперь попробуем воспользоваться линейной регрессией с регуляризацией. Для начала возьмём $L_1$-регуляризацию.\n",
        "\n",
        "Обучите модель `Lasso` из библиотеки `sklearn` на полученных полиномиальных факторах, предварительно стандартизировав факторы. \n",
        "\n",
        "Коэффициент регуляризации (`alpha`) подберите самостоятельно с помощью любого известного вам метода подбора гиперпаметров.\n",
        "\n",
        "Используя кросс-валидацию, оцените среднее значение выбранной вами метрики (или метрик) на тренировочных и валидационных фолдах.\n",
        "\n",
        "Проинтерпретируйте полученные результаты."
      ]
    },
    {
      "cell_type": "markdown",
      "id": "z24YUfuA9rUq",
      "metadata": {
        "id": "z24YUfuA9rUq"
      },
      "source": [
        "**Критерии оценивания:**\n",
        "\n",
        "- Задание выполнено верно, учтены все условия (**2 балла**): \n",
        "    * правильно построена модель полиномиальной регрессии (линейной регрессии на полиномиальных признаках) с регуляризацией (Lasso), учтены условия необходимости масштабирования факторов для построения модели;\n",
        "    * приведён код для подбора параметра регуляризации (вручную или с помощью библиотечных инструментов);\n",
        "    * с помощью кросс-валидации оценено среднее значение выбранной студентом метрики (или метрик) на тренировочных и валидационных фолдах (метрика должна быть выбрана корректно).\n",
        "\n",
        "- Задание выполнено верно, но не учтено одно из условий (**1 балл**).\n",
        "- Задание выполнено неверно, не учтено несколько условий (**0 баллов**)."
      ]
    },
    {
      "cell_type": "code",
      "execution_count": 219,
      "id": "IJ5b5G8qFz-r",
      "metadata": {
        "id": "IJ5b5G8qFz-r"
      },
      "outputs": [
        {
          "name": "stdout",
          "output_type": "stream",
          "text": [
            "Оптимальное значение alpha: 10\n",
            "Train k-fold mean r2: 0.83\n",
            "Valid k-fold mean r2: 0.90\n",
            "Train k-fold mean mse: 160335.40\n",
            "Valid k-fold mean mse: 97221.88\n"
          ]
        },
        {
          "name": "stderr",
          "output_type": "stream",
          "text": [
            "/home/tatiana/.local/lib/python3.10/site-packages/sklearn/linear_model/_coordinate_descent.py:631: ConvergenceWarning: Objective did not converge. You might want to increase the number of iterations, check the scale of the features or consider increasing regularisation. Duality gap: 6.861e+06, tolerance: 1.612e+04\n",
            "  model = cd_fast.enet_coordinate_descent(\n",
            "/home/tatiana/.local/lib/python3.10/site-packages/sklearn/linear_model/_coordinate_descent.py:631: ConvergenceWarning: Objective did not converge. You might want to increase the number of iterations, check the scale of the features or consider increasing regularisation. Duality gap: 6.383e+06, tolerance: 1.545e+04\n",
            "  model = cd_fast.enet_coordinate_descent(\n",
            "/home/tatiana/.local/lib/python3.10/site-packages/sklearn/linear_model/_coordinate_descent.py:631: ConvergenceWarning: Objective did not converge. You might want to increase the number of iterations, check the scale of the features or consider increasing regularisation. Duality gap: 5.588e+06, tolerance: 1.617e+04\n",
            "  model = cd_fast.enet_coordinate_descent(\n",
            "/home/tatiana/.local/lib/python3.10/site-packages/sklearn/linear_model/_coordinate_descent.py:631: ConvergenceWarning: Objective did not converge. You might want to increase the number of iterations, check the scale of the features or consider increasing regularisation. Duality gap: 6.247e+06, tolerance: 1.582e+04\n",
            "  model = cd_fast.enet_coordinate_descent(\n",
            "/home/tatiana/.local/lib/python3.10/site-packages/sklearn/linear_model/_coordinate_descent.py:631: ConvergenceWarning: Objective did not converge. You might want to increase the number of iterations, check the scale of the features or consider increasing regularisation. Duality gap: 5.860e+06, tolerance: 1.474e+04\n",
            "  model = cd_fast.enet_coordinate_descent(\n",
            "/home/tatiana/.local/lib/python3.10/site-packages/sklearn/linear_model/_coordinate_descent.py:631: ConvergenceWarning: Objective did not converge. You might want to increase the number of iterations, check the scale of the features or consider increasing regularisation. Duality gap: 6.472e+06, tolerance: 1.612e+04\n",
            "  model = cd_fast.enet_coordinate_descent(\n",
            "/home/tatiana/.local/lib/python3.10/site-packages/sklearn/linear_model/_coordinate_descent.py:631: ConvergenceWarning: Objective did not converge. You might want to increase the number of iterations, check the scale of the features or consider increasing regularisation. Duality gap: 6.084e+06, tolerance: 1.545e+04\n",
            "  model = cd_fast.enet_coordinate_descent(\n",
            "/home/tatiana/.local/lib/python3.10/site-packages/sklearn/linear_model/_coordinate_descent.py:631: ConvergenceWarning: Objective did not converge. You might want to increase the number of iterations, check the scale of the features or consider increasing regularisation. Duality gap: 5.459e+06, tolerance: 1.617e+04\n",
            "  model = cd_fast.enet_coordinate_descent(\n",
            "/home/tatiana/.local/lib/python3.10/site-packages/sklearn/linear_model/_coordinate_descent.py:631: ConvergenceWarning: Objective did not converge. You might want to increase the number of iterations, check the scale of the features or consider increasing regularisation. Duality gap: 5.998e+06, tolerance: 1.582e+04\n",
            "  model = cd_fast.enet_coordinate_descent(\n",
            "/home/tatiana/.local/lib/python3.10/site-packages/sklearn/linear_model/_coordinate_descent.py:631: ConvergenceWarning: Objective did not converge. You might want to increase the number of iterations, check the scale of the features or consider increasing regularisation. Duality gap: 5.673e+06, tolerance: 1.474e+04\n",
            "  model = cd_fast.enet_coordinate_descent(\n",
            "/home/tatiana/.local/lib/python3.10/site-packages/sklearn/linear_model/_coordinate_descent.py:631: ConvergenceWarning: Objective did not converge. You might want to increase the number of iterations, check the scale of the features or consider increasing regularisation. Duality gap: 2.968e+06, tolerance: 1.612e+04\n",
            "  model = cd_fast.enet_coordinate_descent(\n",
            "/home/tatiana/.local/lib/python3.10/site-packages/sklearn/linear_model/_coordinate_descent.py:631: ConvergenceWarning: Objective did not converge. You might want to increase the number of iterations, check the scale of the features or consider increasing regularisation. Duality gap: 3.442e+06, tolerance: 1.545e+04\n",
            "  model = cd_fast.enet_coordinate_descent(\n",
            "/home/tatiana/.local/lib/python3.10/site-packages/sklearn/linear_model/_coordinate_descent.py:631: ConvergenceWarning: Objective did not converge. You might want to increase the number of iterations, check the scale of the features or consider increasing regularisation. Duality gap: 4.331e+06, tolerance: 1.617e+04\n",
            "  model = cd_fast.enet_coordinate_descent(\n",
            "/home/tatiana/.local/lib/python3.10/site-packages/sklearn/linear_model/_coordinate_descent.py:631: ConvergenceWarning: Objective did not converge. You might want to increase the number of iterations, check the scale of the features or consider increasing regularisation. Duality gap: 4.129e+06, tolerance: 1.582e+04\n",
            "  model = cd_fast.enet_coordinate_descent(\n",
            "/home/tatiana/.local/lib/python3.10/site-packages/sklearn/linear_model/_coordinate_descent.py:631: ConvergenceWarning: Objective did not converge. You might want to increase the number of iterations, check the scale of the features or consider increasing regularisation. Duality gap: 3.289e+06, tolerance: 1.474e+04\n",
            "  model = cd_fast.enet_coordinate_descent(\n",
            "/home/tatiana/.local/lib/python3.10/site-packages/sklearn/linear_model/_coordinate_descent.py:631: ConvergenceWarning: Objective did not converge. You might want to increase the number of iterations, check the scale of the features or consider increasing regularisation. Duality gap: 1.315e+06, tolerance: 1.612e+04\n",
            "  model = cd_fast.enet_coordinate_descent(\n",
            "/home/tatiana/.local/lib/python3.10/site-packages/sklearn/linear_model/_coordinate_descent.py:631: ConvergenceWarning: Objective did not converge. You might want to increase the number of iterations, check the scale of the features or consider increasing regularisation. Duality gap: 1.010e+06, tolerance: 1.545e+04\n",
            "  model = cd_fast.enet_coordinate_descent(\n",
            "/home/tatiana/.local/lib/python3.10/site-packages/sklearn/linear_model/_coordinate_descent.py:631: ConvergenceWarning: Objective did not converge. You might want to increase the number of iterations, check the scale of the features or consider increasing regularisation. Duality gap: 2.797e+06, tolerance: 1.617e+04\n",
            "  model = cd_fast.enet_coordinate_descent(\n",
            "/home/tatiana/.local/lib/python3.10/site-packages/sklearn/linear_model/_coordinate_descent.py:631: ConvergenceWarning: Objective did not converge. You might want to increase the number of iterations, check the scale of the features or consider increasing regularisation. Duality gap: 3.554e+05, tolerance: 1.582e+04\n",
            "  model = cd_fast.enet_coordinate_descent(\n",
            "/home/tatiana/.local/lib/python3.10/site-packages/sklearn/linear_model/_coordinate_descent.py:631: ConvergenceWarning: Objective did not converge. You might want to increase the number of iterations, check the scale of the features or consider increasing regularisation. Duality gap: 8.030e+05, tolerance: 1.474e+04\n",
            "  model = cd_fast.enet_coordinate_descent(\n"
          ]
        }
      ],
      "source": [
        "\n",
        "\n",
        "# Подбор гиперпараметра\n",
        "alphas = [0.001, 0.01, 0.1, 1, 10]\n",
        "mean_scores = []\n",
        "\n",
        "for alpha in alphas:\n",
        "    model = Lasso(alpha=alpha)\n",
        "    scores = cross_val_score(model, X_poly, y, cv=5)\n",
        "    mean_scores.append(scores.mean())\n",
        "\n",
        "# Выбор оптимального alpha\n",
        "optimal_alpha = alphas[np.argmax(mean_scores)]\n",
        "print(\"Оптимальное значение alpha:\", optimal_alpha)\n",
        "\n",
        "# Обучение модели с оптимальным alpha\n",
        "lasso_model = Lasso(alpha=optimal_alpha)\n",
        "lasso_model.fit(X_poly, y)\n",
        "\n",
        "# Оценка метрик с помощью кросс-валидации\n",
        "# Создаём объект кросс-валидатора KFold\n",
        "kf = model_selection.KFold(n_splits=5)\n",
        " \n",
        "#Считаем метрики на кросс-валидации k-fold\n",
        "cv_metrics = model_selection.cross_validate(\n",
        "    estimator=lasso_model, #модель\n",
        "    X=X_poly, #матрица наблюдений X\n",
        "    y=y, #вектор ответов y\n",
        "    cv=kf, #кросс-валидатор\n",
        "    scoring=scoring, #метрика\n",
        "    return_train_score=True #подсчёт метрики на тренировочных фолдах\n",
        ")\n",
        "\n",
        "print('Train k-fold mean r2: {:.2f}'.format(np.mean(cv_metrics['test_r2'])))\n",
        "print('Valid k-fold mean r2: {:.2f}'.format(np.mean(cv_metrics['train_r2'])))\n",
        "print('Train k-fold mean mse: {:.2f}'.format(np.mean(cv_metrics['test_mse'])))\n",
        "print('Valid k-fold mean mse: {:.2f}'.format(np.mean(cv_metrics['train_mse'])))"
      ]
    },
    {
      "cell_type": "markdown",
      "id": "Se0OGR8UF2Td",
      "metadata": {
        "id": "Se0OGR8UF2Td"
      },
      "source": [
        "Исходя из предоставленных результатов, можно сделать следующие выводы:\n",
        "\n",
        "1. Оптимальное значение коэффициента регуляризации (alpha) для модели Lasso составляет 1. Это значение было выбрано с помощью метода подбора гиперпараметров.\n",
        "\n",
        "2. Среднее значение коэффициента детерминации (R2) на тренировочных фолдах составляет 0.83. R2 представляет собой долю объясненной дисперсии в целевой переменной моделью. Значение 0.80 говорит о том, что модель объясняет около 80% дисперсии в тренировочных данных.\n",
        "\n",
        "3. Среднее значение коэффициента детерминации (R2) на валидационных фолдах составляет 0.90. Это высокое значение R2 на валидационных фолдах указывает на хорошую способность модели обобщать и объяснять данные, которые не были использованы в процессе обучения.\n",
        "\n",
        "4. Среднее значение среднеквадратичной ошибки (MSE) на тренировочных фолдах составляет 160335.40 MSE представляет собой среднее значение квадратов разностей между истинными значениями и предсказанными значениями. Значение 187829.39 указывает на среднюю ошибку модели при предсказании тренировочных данных.\n",
        "\n",
        "5. Среднее значение среднеквадратичной ошибки (MSE) на валидационных фолдах составляет 97221.88. Значение MSE на валидационных фолдах указывает на среднюю ошибку модели при предсказании валидационных данных.\n",
        "\n",
        "В целом, модель Lasso с регуляризацией демонстрирует хорошую способность обобщать данные, что подтверждается высоким значением R2 на валидационных фолдах. "
      ]
    },
    {
      "cell_type": "markdown",
      "id": "2975ae60",
      "metadata": {
        "id": "2975ae60"
      },
      "source": [
        "### Задание 8.3. (2 балла)\n",
        "\n",
        "Проделаем то же самое с $L_2$-регуляризацией.\n",
        "\n",
        "Обучите модель `Ridge` из библиотеки `sklearn` на полученных полиномиальных факторах, предварительно стандартизировав факторы. \n",
        "\n",
        "Коэффициент регуляризации (`alpha`) подберите самостоятельно с помощью любого известного вам метода подбора гиперпаметров.\n",
        "\n",
        "Используя кросс-валидацию оцените среднее значение выбранной вами метрики (или метрик) на тренировочных и валидационных фолдах.\n",
        "\n",
        "Проинтерпретируйте полученные результаты."
      ]
    },
    {
      "cell_type": "code",
      "execution_count": 220,
      "id": "UfPGyNsjGGS8",
      "metadata": {
        "id": "UfPGyNsjGGS8"
      },
      "outputs": [
        {
          "name": "stdout",
          "output_type": "stream",
          "text": [
            "Оптимальное значение alpha: 10\n",
            "Train k-fold mean r2: 0.81\n",
            "Valid k-fold mean r2: 0.90\n",
            "Train k-fold mean mse: 182370.13\n",
            "Valid k-fold mean mse: 96181.35\n"
          ]
        }
      ],
      "source": [
        "\n",
        "# Подбор гиперпараметра\n",
        "alphas = [0.001, 0.01, 0.1, 1, 10]\n",
        "mean_scores = []\n",
        "\n",
        "for alpha in alphas:\n",
        "    model = Ridge(alpha=alpha)\n",
        "    scores = cross_val_score(model, X_poly, y, cv=5)\n",
        "    mean_scores.append(scores.mean())\n",
        "\n",
        "# Выбор оптимального alpha\n",
        "optimal_alpha = alphas[np.argmax(mean_scores)]\n",
        "print(\"Оптимальное значение alpha:\", optimal_alpha)\n",
        "\n",
        "# Обучение модели с оптимальным alpha\n",
        "ridge_model = Ridge(alpha=optimal_alpha, solver='svd')\n",
        "ridge_model.fit(X_poly, y)\n",
        "\n",
        "# Оценка метрик с помощью кросс-валидации\n",
        "# Создаём объект кросс-валидатора KFold\n",
        "kf = model_selection.KFold(n_splits=5)\n",
        " \n",
        "#Считаем метрики на кросс-валидации k-fold\n",
        "cv_metrics = model_selection.cross_validate(\n",
        "    estimator=ridge_model, #модель\n",
        "    X=X_poly, #матрица наблюдений X\n",
        "    y=y, #вектор ответов y\n",
        "    cv=kf, #кросс-валидатор\n",
        "    scoring=scoring, #метрика\n",
        "    return_train_score=True #подсчёт метрики на тренировочных фолдах\n",
        ")\n",
        "\n",
        "print('Train k-fold mean r2: {:.2f}'.format(np.mean(cv_metrics['test_r2'])))\n",
        "print('Valid k-fold mean r2: {:.2f}'.format(np.mean(cv_metrics['train_r2'])))\n",
        "print('Train k-fold mean mse: {:.2f}'.format(np.mean(cv_metrics['test_mse'])))\n",
        "print('Valid k-fold mean mse: {:.2f}'.format(np.mean(cv_metrics['train_mse'])))"
      ]
    },
    {
      "cell_type": "markdown",
      "id": "dQBd7ny_GIi1",
      "metadata": {
        "id": "dQBd7ny_GIi1"
      },
      "source": [
        "Исходя из предоставленных результатов, можно сделать следующие выводы:\n",
        "\n",
        "1. Оптимальное значение коэффициента регуляризации (alpha) для модели Ridge составляет 10. Это значение было выбрано с помощью метода подбора гиперпараметров.\n",
        "\n",
        "2. Среднее значение коэффициента детерминации (R2) на тренировочных фолдах составляет 0.81. Значение 0.81 говорит о том, что модель объясняет около 81% дисперсии в тренировочных данных.\n",
        "\n",
        "3. Среднее значение коэффициента детерминации (R2) на валидационных фолдах составляет 0.90. Это значение указывает на хорошую способность модели обобщать и объяснять данные, которые не были использованы в процессе обучения.\n",
        "\n",
        "4. Среднее значение среднеквадратичной ошибки (MSE) на тренировочных фолдах составляет 182370.13. Значение MSE указывает на среднюю ошибку модели при предсказании тренировочных данных.\n",
        "\n",
        "5. Среднее значение среднеквадратичной ошибки (MSE) на валидационных фолдах составляет 96181.35. Значение MSE на валидационных фолдах указывает на среднюю ошибку модели при предсказании валидационных данных.\n",
        "\n",
        "В целом, модель Ridge с L2-регуляризацией демонстрирует хорошую способность обобщать данные, что подтверждается высоким значением R2 на валидационных фолдах. "
      ]
    },
    {
      "cell_type": "markdown",
      "id": "86pXnWE7-5ch",
      "metadata": {
        "id": "86pXnWE7-5ch"
      },
      "source": [
        "**Критерии оценивания:**\n",
        "\n",
        "- Задание выполнено верно, учтены все условия (**2 балла**): \n",
        "    * правильно построена модель полиномиальной регрессии (линейной регрессии на полиномиальных признаках) с регуляризацией (Ridge), учтены условия необходимости масштабирования факторов для построения модели;\n",
        "    * приведён код для подбора параметра регуляризации (вручную или с помощью библиотечных инструментов);\n",
        "    * с помощью кросс-валидации оценено среднее значение выбранной студентом метрики (или метрик) на тренировочных и валидационных фолдах (метрика должна быть выбрана корректно).\n",
        "\n",
        "- Задание выполнено верно, но не учтено одно из условий (**1 балл**).\n",
        "- Задание выполнено неверно, не учтено несколько условий (**0 баллов**)."
      ]
    },
    {
      "cell_type": "markdown",
      "id": "7ad85b78",
      "metadata": {
        "id": "7ad85b78"
      },
      "source": [
        "### Задание 8.4. (2 балла)\n",
        "\n",
        "Наконец, настало время комбинировать $L_1$ и $L_2$ -регуляризации.\n",
        "\n",
        "Обучите модель `ElasticNet` из библиотеки `sklearn` на полученных полиномиальных факторах, предварительно стандартизировав факторы. \n",
        "\n",
        "Коэффициенты регуляризации (`alpha` и `l1-ratio`) подберите самостоятельно с помощью любого известного вам метода подбора гиперпаметров.\n",
        "\n",
        "Используя кросс-валидацию, оцените среднее значение метрики MAPE на тренировочных и валидационных фолдах.\n",
        "\n",
        "Проинтерпретируйте полученные результаты."
      ]
    },
    {
      "cell_type": "markdown",
      "id": "sy8ESceQ-__u",
      "metadata": {
        "id": "sy8ESceQ-__u"
      },
      "source": [
        "**Критерии оценивания:**\n",
        "\n",
        "- Задание выполнено верно, учтены все условия (**2 балла**): \n",
        "    * правильно построена модель полиномиальной регрессии (линейной регрессии на полиномиальных признаках) с регуляризацией (ElasticNet), учтены условия необходимости масштабирования факторов для построения модели;\n",
        "    * приведён код для подбора параметра регуляризации (вручную или с помощью библиотечных инструментов);\n",
        "    * с помощью кросс-валидации оценено среднее значение выбранной студентом метрики (или метрик) на тренировочных и валидационных фолдах (метрика должна быть выбрана корректно).\n",
        "\n",
        "- Задание выполнено верно, но не учтено одно из условий (**1 балл**).\n",
        "- Задание выполнено неверно, не учтено несколько условий (**0 баллов**)."
      ]
    },
    {
      "cell_type": "code",
      "execution_count": 225,
      "id": "-Yi3P20hQnLS",
      "metadata": {
        "id": "-Yi3P20hQnLS"
      },
      "outputs": [
        {
          "name": "stdout",
          "output_type": "stream",
          "text": [
            "Best alpha: 0.1\n",
            "Best l1_ratio: 0.5\n",
            "Train k-fold mean MAPE: 0.08\n",
            "Valid k-fold mean MAPE: 0.06\n"
          ]
        },
        {
          "name": "stderr",
          "output_type": "stream",
          "text": [
            "/home/tatiana/.local/lib/python3.10/site-packages/sklearn/linear_model/_coordinate_descent.py:631: ConvergenceWarning: Objective did not converge. You might want to increase the number of iterations, check the scale of the features or consider increasing regularisation. Duality gap: 1.429e+05, tolerance: 1.612e+04\n",
            "  model = cd_fast.enet_coordinate_descent(\n",
            "/home/tatiana/.local/lib/python3.10/site-packages/sklearn/linear_model/_coordinate_descent.py:631: ConvergenceWarning: Objective did not converge. You might want to increase the number of iterations, check the scale of the features or consider increasing regularisation. Duality gap: 2.729e+05, tolerance: 1.545e+04\n",
            "  model = cd_fast.enet_coordinate_descent(\n",
            "/home/tatiana/.local/lib/python3.10/site-packages/sklearn/linear_model/_coordinate_descent.py:631: ConvergenceWarning: Objective did not converge. You might want to increase the number of iterations, check the scale of the features or consider increasing regularisation. Duality gap: 5.121e+05, tolerance: 1.617e+04\n",
            "  model = cd_fast.enet_coordinate_descent(\n",
            "/home/tatiana/.local/lib/python3.10/site-packages/sklearn/linear_model/_coordinate_descent.py:631: ConvergenceWarning: Objective did not converge. You might want to increase the number of iterations, check the scale of the features or consider increasing regularisation. Duality gap: 5.813e+05, tolerance: 1.474e+04\n",
            "  model = cd_fast.enet_coordinate_descent(\n",
            "/home/tatiana/.local/lib/python3.10/site-packages/sklearn/linear_model/_coordinate_descent.py:631: ConvergenceWarning: Objective did not converge. You might want to increase the number of iterations, check the scale of the features or consider increasing regularisation. Duality gap: 1.572e+05, tolerance: 1.612e+04\n",
            "  model = cd_fast.enet_coordinate_descent(\n",
            "/home/tatiana/.local/lib/python3.10/site-packages/sklearn/linear_model/_coordinate_descent.py:631: ConvergenceWarning: Objective did not converge. You might want to increase the number of iterations, check the scale of the features or consider increasing regularisation. Duality gap: 6.956e+05, tolerance: 1.545e+04\n",
            "  model = cd_fast.enet_coordinate_descent(\n",
            "/home/tatiana/.local/lib/python3.10/site-packages/sklearn/linear_model/_coordinate_descent.py:631: ConvergenceWarning: Objective did not converge. You might want to increase the number of iterations, check the scale of the features or consider increasing regularisation. Duality gap: 1.042e+06, tolerance: 1.617e+04\n",
            "  model = cd_fast.enet_coordinate_descent(\n",
            "/home/tatiana/.local/lib/python3.10/site-packages/sklearn/linear_model/_coordinate_descent.py:631: ConvergenceWarning: Objective did not converge. You might want to increase the number of iterations, check the scale of the features or consider increasing regularisation. Duality gap: 1.092e+06, tolerance: 1.474e+04\n",
            "  model = cd_fast.enet_coordinate_descent(\n",
            "/home/tatiana/.local/lib/python3.10/site-packages/sklearn/linear_model/_coordinate_descent.py:631: ConvergenceWarning: Objective did not converge. You might want to increase the number of iterations, check the scale of the features or consider increasing regularisation. Duality gap: 3.607e+06, tolerance: 1.612e+04\n",
            "  model = cd_fast.enet_coordinate_descent(\n",
            "/home/tatiana/.local/lib/python3.10/site-packages/sklearn/linear_model/_coordinate_descent.py:631: ConvergenceWarning: Objective did not converge. You might want to increase the number of iterations, check the scale of the features or consider increasing regularisation. Duality gap: 4.749e+06, tolerance: 1.545e+04\n",
            "  model = cd_fast.enet_coordinate_descent(\n",
            "/home/tatiana/.local/lib/python3.10/site-packages/sklearn/linear_model/_coordinate_descent.py:631: ConvergenceWarning: Objective did not converge. You might want to increase the number of iterations, check the scale of the features or consider increasing regularisation. Duality gap: 4.787e+06, tolerance: 1.617e+04\n",
            "  model = cd_fast.enet_coordinate_descent(\n",
            "/home/tatiana/.local/lib/python3.10/site-packages/sklearn/linear_model/_coordinate_descent.py:631: ConvergenceWarning: Objective did not converge. You might want to increase the number of iterations, check the scale of the features or consider increasing regularisation. Duality gap: 8.544e+05, tolerance: 1.582e+04\n",
            "  model = cd_fast.enet_coordinate_descent(\n",
            "/home/tatiana/.local/lib/python3.10/site-packages/sklearn/linear_model/_coordinate_descent.py:631: ConvergenceWarning: Objective did not converge. You might want to increase the number of iterations, check the scale of the features or consider increasing regularisation. Duality gap: 4.524e+06, tolerance: 1.474e+04\n",
            "  model = cd_fast.enet_coordinate_descent(\n",
            "/home/tatiana/.local/lib/python3.10/site-packages/sklearn/linear_model/_coordinate_descent.py:631: ConvergenceWarning: Objective did not converge. You might want to increase the number of iterations, check the scale of the features or consider increasing regularisation. Duality gap: 1.528e+05, tolerance: 1.958e+04\n",
            "  model = cd_fast.enet_coordinate_descent(\n",
            "/home/tatiana/.local/lib/python3.10/site-packages/sklearn/linear_model/_coordinate_descent.py:631: ConvergenceWarning: Objective did not converge. You might want to increase the number of iterations, check the scale of the features or consider increasing regularisation. Duality gap: 1.572e+05, tolerance: 1.612e+04\n",
            "  model = cd_fast.enet_coordinate_descent(\n",
            "/home/tatiana/.local/lib/python3.10/site-packages/sklearn/linear_model/_coordinate_descent.py:631: ConvergenceWarning: Objective did not converge. You might want to increase the number of iterations, check the scale of the features or consider increasing regularisation. Duality gap: 6.956e+05, tolerance: 1.545e+04\n",
            "  model = cd_fast.enet_coordinate_descent(\n",
            "/home/tatiana/.local/lib/python3.10/site-packages/sklearn/linear_model/_coordinate_descent.py:631: ConvergenceWarning: Objective did not converge. You might want to increase the number of iterations, check the scale of the features or consider increasing regularisation. Duality gap: 1.042e+06, tolerance: 1.617e+04\n",
            "  model = cd_fast.enet_coordinate_descent(\n",
            "/home/tatiana/.local/lib/python3.10/site-packages/sklearn/linear_model/_coordinate_descent.py:631: ConvergenceWarning: Objective did not converge. You might want to increase the number of iterations, check the scale of the features or consider increasing regularisation. Duality gap: 1.092e+06, tolerance: 1.474e+04\n",
            "  model = cd_fast.enet_coordinate_descent(\n"
          ]
        }
      ],
      "source": [
        "\n",
        "from sklearn.metrics import make_scorer, mean_absolute_percentage_error\n",
        "\n",
        "# Создание модели ElasticNet\n",
        "model = ElasticNet()\n",
        "\n",
        "# Определение сетки параметров для перебора\n",
        "param_grid = {\n",
        "    'alpha': [0.1, 1.0, 10.0],\n",
        "    'l1_ratio': [0.1, 0.5, 0.9]\n",
        "}\n",
        "\n",
        "# Определение метрики для оценки модели\n",
        "scorer = make_scorer(mean_absolute_percentage_error, greater_is_better=False)\n",
        "\n",
        "# Поиск наилучших параметров с помощью GridSearchCV\n",
        "grid_search = GridSearchCV(model, param_grid=param_grid, scoring=scorer, cv=5)\n",
        "grid_search.fit(X_poly, y)\n",
        "\n",
        "# Вывод наилучших параметров\n",
        "print(\"Best alpha:\", grid_search.best_params_['alpha'])\n",
        "print(\"Best l1_ratio:\", grid_search.best_params_['l1_ratio'])\n",
        "\n",
        "# Оценка метрик с использованием кросс-валидации и наилучших параметров\n",
        "best_model = grid_search.best_estimator_# Оценка метрик с помощью кросс-валидации\n",
        "# Создаём объект кросс-валидатора KFold\n",
        "kf = model_selection.KFold(n_splits=5)\n",
        " \n",
        "#Считаем метрики на кросс-валидации k-fold\n",
        "cv_metrics = model_selection.cross_validate(\n",
        "    estimator=best_model , #модель\n",
        "    X=X_poly, #матрица наблюдений X\n",
        "    y=y, #вектор ответов y\n",
        "    cv=kf, #кросс-валидатор\n",
        "    scoring=scorer, #метрика\n",
        "    return_train_score=True #подсчёт метрики на тренировочных фолдах\n",
        ")\n",
        "\n",
        "# Вывод средних значений метрик на тренировочных и валидационных фолдах\n",
        "print('Train k-fold mean MAPE: {:.2f}'.format(-np.mean(cv_metrics['test_score'])))\n",
        "print('Valid k-fold mean MAPE: {:.2f}'.format(-np.mean(cv_metrics['train_score'])))"
      ]
    },
    {
      "cell_type": "markdown",
      "id": "er2lAiE9QpAb",
      "metadata": {
        "id": "er2lAiE9QpAb"
      },
      "source": [
        "Исходя из проведенного анализа, наилучшими значениями коэффициентов регуляризации для модели ElasticNet являются `alpha=0.1` и `l1_ratio=0.5`. \n",
        "\n",
        "Согласно оценке метрики MAPE на кросс-валидации, среднее значение для тренировочных фолдов составляет 0.08, а для валидационных фолдов - 0.06. \n",
        "\n",
        "Эти значения метрики показывают процентную ошибку абсолютного значения прогнозируемой переменной. Чем ближе значение MAPE к нулю, тем лучше модель предсказывает целевую переменную. В данном случае, полученные значения MAPE говорят о том, что модель с комбинацией L1 и L2 регуляризации и подобранными коэффициентами регуляризации дает неплохие результаты, с ошибкой прогноза на уровне 6-8%."
      ]
    },
    {
      "cell_type": "markdown",
      "id": "91c6e1d1",
      "metadata": {
        "id": "91c6e1d1"
      },
      "source": [
        "### Задание 8.5. (1 балл)\n",
        "\n",
        "Завершением вашей работы будет сводная таблица результатов, которую вы представите на презентации заказчику Василию.\n",
        "\n",
        "Составьте таблицу (DataFrame) со следующими столбцами (имена столбцов выберите самостоятельно):\n",
        "* Наименование модели.\n",
        "* Гиперпараметры (коэффициенты регуляризации, если таковые имеются), если нет — оставьте ячейку пустой.\n",
        "* Использовались ли полиномиальные признаки при построении модели (Да/Нет или True/False).\n",
        "* Значение выбранной метрики на тренировочных фолдах при кросс-валидации модели.\n",
        "* Значение выбранной метрики на валидационных фолдах при кросс-валидации модели.\n",
        "\n",
        "Сделайте финальный вывод по проделанной работе. Какая линейная модель из тех, что мы рассмотрели, показала наилучший результат с точки зрения качества на валидационных фолдах, а также с точки зрения переобученности?"
      ]
    },
    {
      "cell_type": "markdown",
      "id": "OsFRaKkF_nLq",
      "metadata": {
        "id": "OsFRaKkF_nLq"
      },
      "source": [
        "**Критерии оценивания:**\n",
        "\n",
        "- Задание выполнено верно, учтены все условия (**1 балл**): \n",
        "    * верно составлена сводная таблица итоговых результатов построенных ранее моделей с указанными в задании столбцами;\n",
        "    * приведены итоговые выводы по проделанной работе, указано, какая из рассмотренных моделей показала наилучший результат.\n",
        "\n",
        "- Задание выполнено неверно, не учтено одно или несколько условий (**0 баллов**)."
      ]
    },
    {
      "cell_type": "markdown",
      "id": "a4b71231",
      "metadata": {},
      "source": [
        "\n",
        "| Наименование модели | Гиперпараметры | Полиномиальные признаки | Train r2 | Valid r2 | Train MSE| Valid MSE | Train MAPE | Valid MAPE |\n",
        "|---------------------|----------------|------------------------|------------|------------|------------|------------|------------|------------|\n",
        "| Линейная регрессия по методу наимельших квадратов с помощью библиотеки numpy | - | Нет | 0.85 | - |146915.504\n",
        "| Линейная регрессия sklern | - | Нет | 0.85 | - |146915.504\n",
        "| Линейная регрессия со стандартизированными и сгенерированными признаками третьего порядка | - | Да | 0.73 | 0.92 |255099.89 |76514.00\n",
        "| Модель Lasso с L1 регуляризацией | alpha = 10 | Да | 0.83 | 0.90 |160335.40 |97221.88\n",
        "| Модель Ridge с L2 регуляризацией |alpha = 10 | Да | 0.81 | 0.90 | 182370.13 | 96181.35\n",
        "| ElasticNet с L1 и L2 регуляризацией | alpha=0.1, l1_ratio=0.5 | Да |  |  |  |  | 0.08 | 0.06 |"
      ]
    },
    {
      "cell_type": "code",
      "execution_count": 223,
      "id": "wRiys8lKQuqW",
      "metadata": {
        "id": "wRiys8lKQuqW"
      },
      "outputs": [
        {
          "data": {
            "text/html": [
              "<div>\n",
              "<style scoped>\n",
              "    .dataframe tbody tr th:only-of-type {\n",
              "        vertical-align: middle;\n",
              "    }\n",
              "\n",
              "    .dataframe tbody tr th {\n",
              "        vertical-align: top;\n",
              "    }\n",
              "\n",
              "    .dataframe thead th {\n",
              "        text-align: right;\n",
              "    }\n",
              "</style>\n",
              "<table border=\"1\" class=\"dataframe\">\n",
              "  <thead>\n",
              "    <tr style=\"text-align: right;\">\n",
              "      <th></th>\n",
              "      <th>Наименование модели</th>\n",
              "      <th>Гиперпараметры</th>\n",
              "      <th>Полиномиальные признаки</th>\n",
              "      <th>Train r2</th>\n",
              "      <th>Valid r2</th>\n",
              "      <th>Train MSE</th>\n",
              "      <th>Valid MSE</th>\n",
              "      <th>Train MAPE</th>\n",
              "      <th>Valid MAPE</th>\n",
              "    </tr>\n",
              "  </thead>\n",
              "  <tbody>\n",
              "    <tr>\n",
              "      <th>0</th>\n",
              "      <td>Линейная регрессия по методу наимельших квадра...</td>\n",
              "      <td>-</td>\n",
              "      <td>Нет</td>\n",
              "      <td>0.85</td>\n",
              "      <td>-</td>\n",
              "      <td>146915.504</td>\n",
              "      <td>-</td>\n",
              "      <td>-</td>\n",
              "      <td>-</td>\n",
              "    </tr>\n",
              "    <tr>\n",
              "      <th>1</th>\n",
              "      <td>Линейная регрессия sklearn</td>\n",
              "      <td>-</td>\n",
              "      <td>Нет</td>\n",
              "      <td>0.85</td>\n",
              "      <td>-</td>\n",
              "      <td>146915.504</td>\n",
              "      <td>-</td>\n",
              "      <td>-</td>\n",
              "      <td>-</td>\n",
              "    </tr>\n",
              "    <tr>\n",
              "      <th>2</th>\n",
              "      <td>Линейная регрессия со стандартизированными и с...</td>\n",
              "      <td>-</td>\n",
              "      <td>Да</td>\n",
              "      <td>0.73</td>\n",
              "      <td>0.92</td>\n",
              "      <td>255099.89</td>\n",
              "      <td>76514.0</td>\n",
              "      <td>-</td>\n",
              "      <td>-</td>\n",
              "    </tr>\n",
              "    <tr>\n",
              "      <th>3</th>\n",
              "      <td>Модель Lasso с L1 регуляризацией</td>\n",
              "      <td>alpha = 10</td>\n",
              "      <td>Да</td>\n",
              "      <td>0.83</td>\n",
              "      <td>0.9</td>\n",
              "      <td>160335.4</td>\n",
              "      <td>97221.88</td>\n",
              "      <td>-</td>\n",
              "      <td>-</td>\n",
              "    </tr>\n",
              "    <tr>\n",
              "      <th>4</th>\n",
              "      <td>Модель Ridge с L2 регуляризацией</td>\n",
              "      <td>alpha = 10</td>\n",
              "      <td>Да</td>\n",
              "      <td>0.81</td>\n",
              "      <td>0.9</td>\n",
              "      <td>182370.13</td>\n",
              "      <td>96181.35</td>\n",
              "      <td>-</td>\n",
              "      <td>-</td>\n",
              "    </tr>\n",
              "    <tr>\n",
              "      <th>5</th>\n",
              "      <td>ElasticNet с L1 и L2 регуляризацией</td>\n",
              "      <td>alpha=0.1, l1_ratio=0.5</td>\n",
              "      <td>Да</td>\n",
              "      <td>-</td>\n",
              "      <td>-</td>\n",
              "      <td>-</td>\n",
              "      <td>-</td>\n",
              "      <td>0.08</td>\n",
              "      <td>0.06</td>\n",
              "    </tr>\n",
              "  </tbody>\n",
              "</table>\n",
              "</div>"
            ],
            "text/plain": [
              "                                 Наименование модели           Гиперпараметры  \\\n",
              "0  Линейная регрессия по методу наимельших квадра...                        -   \n",
              "1                         Линейная регрессия sklearn                        -   \n",
              "2  Линейная регрессия со стандартизированными и с...                        -   \n",
              "3                   Модель Lasso с L1 регуляризацией               alpha = 10   \n",
              "4                   Модель Ridge с L2 регуляризацией               alpha = 10   \n",
              "5                ElasticNet с L1 и L2 регуляризацией  alpha=0.1, l1_ratio=0.5   \n",
              "\n",
              "  Полиномиальные признаки Train r2 Valid r2   Train MSE Valid MSE Train MAPE  \\\n",
              "0                     Нет     0.85        -  146915.504         -          -   \n",
              "1                     Нет     0.85        -  146915.504         -          -   \n",
              "2                      Да     0.73     0.92   255099.89   76514.0          -   \n",
              "3                      Да     0.83      0.9    160335.4  97221.88          -   \n",
              "4                      Да     0.81      0.9   182370.13  96181.35          -   \n",
              "5                      Да        -        -           -         -       0.08   \n",
              "\n",
              "  Valid MAPE  \n",
              "0          -  \n",
              "1          -  \n",
              "2          -  \n",
              "3          -  \n",
              "4          -  \n",
              "5       0.06  "
            ]
          },
          "execution_count": 223,
          "metadata": {},
          "output_type": "execute_result"
        }
      ],
      "source": [
        "data = {\n",
        "    'Наименование модели': ['Линейная регрессия по методу наимельших квадратов с помощью библиотеки numpy',\n",
        "                            'Линейная регрессия sklearn',\n",
        "                            'Линейная регрессия со стандартизированными и сгенерированными признаками третьего порядка',\n",
        "                            'Модель Lasso с L1 регуляризацией',\n",
        "                            'Модель Ridge с L2 регуляризацией',\n",
        "                            'ElasticNet с L1 и L2 регуляризацией'],\n",
        "    'Гиперпараметры': ['-', '-', '-', 'alpha = 10', 'alpha = 10', 'alpha=0.1, l1_ratio=0.5'],\n",
        "    'Полиномиальные признаки': ['Нет', 'Нет', 'Да', 'Да', 'Да', 'Да'],\n",
        "    'Train r2': [0.85, 0.85, 0.73, 0.83, 0.81, '-'],\n",
        "    'Valid r2': ['-', '-', 0.92, 0.90, 0.90, '-'],\n",
        "    'Train MSE': [146915.504, 146915.504, 255099.89, 160335.40, 182370.13, '-'],\n",
        "    'Valid MSE': ['-', '-', 76514.00, 97221.88, 96181.35, '-'],\n",
        "    'Train MAPE': ['-', '-', '-', '-', '-', 0.08],\n",
        "    'Valid MAPE': ['-', '-', '-', '-', '-', 0.06]\n",
        "}\n",
        "\n",
        "df = pd.DataFrame(data)\n",
        "\n",
        "df"
      ]
    },
    {
      "cell_type": "markdown",
      "id": "UP7_LSoEQsrA",
      "metadata": {
        "id": "UP7_LSoEQsrA"
      },
      "source": [
        "Исходя из предоставленных метрик, можно сделать следующие выводы о качестве моделей:\n",
        "\n",
        "1. Линейная регрессия по методу наименьших квадратов с помощью библиотеки NumPy и Линейная регрессия sklearn показывают схожие результаты с коэффициентом детерминации (r2) равным 0.85. Однако, значения MAPE не предоставлены, поэтому нельзя сделать окончательное сравнение с другими моделями.\n",
        "\n",
        "2. Модель линейной регрессии со стандартизированными и сгенерированными полиномиальными признаками третьего порядка демонстрирует более низкое значение коэффициента детерминации на тренировочных данных (r2=0.73), но значительно лучший результат на валидационных данных (r2=0.92). Также снижение значений MSE на валидационных данных указывает на лучшую способность модели обобщаться на новые данные.\n",
        "\n",
        "3. Модель Lasso с L1 регуляризацией и alpha=10 имеет значительно меньшую ошибку MSE на валидационных данных (97221.88) по сравнению с моделью линейной регрессии со стандартизированными признаками третьего порядка (96181.35). Коэффициент детерминации на валидационных данных также немного выше (0.90 по сравнению с 0.81).\n",
        "\n",
        "4. Модель Ridge с L2 регуляризацией и alpha=10 также показывает лучший результат по сравнению с моделью линейной регрессии со стандартизированными признаками третьего порядка. Коэффициент детерминации на валидационных данных составляет 0.90, а ошибка MSE равна 96181.35.\n",
        "\n",
        "5. Модель ElasticNet с L1 и L2 регуляризацией и alpha=0.1, l1_ratio=0.5 не имеет информации о коэффициентах детерминации (r2) и MSE на тренировочных и валидационных данных. Однако, значения MAPE указывают на неплохую производительность модели, с ошибкой прогноза на уровне 6-8%.\n",
        "\n",
        "Исходя из этих результатов, можно сказать, что модели Lasso и Ridge с L1 и L2 регуляризацией справляются лучше с задачей прогнозирования по сравнению с остальными моделями, особенно модель Ridge, которая показывает более высокие значения коэффициента детерминации и меньшую ошибку MSE на валидационных данных."
      ]
    },
    {
      "cell_type": "code",
      "execution_count": 1,
      "id": "752d4445-6a85-4cfb-b520-7b7b0f9a5b20",
      "metadata": {
        "id": "752d4445-6a85-4cfb-b520-7b7b0f9a5b20"
      },
      "outputs": [],
      "source": [
        "# зафиксируем версию пакетов, для воспроизводимы воспроизводимости экспериментов:\n",
        "!pip freeze > requirements.txt"
      ]
    }
  ],
  "metadata": {
    "colab": {
      "provenance": []
    },
    "kernelspec": {
      "display_name": "Python 3.10.8 ('base')",
      "language": "python",
      "name": "python3"
    },
    "language_info": {
      "codemirror_mode": {
        "name": "ipython",
        "version": 3
      },
      "file_extension": ".py",
      "mimetype": "text/x-python",
      "name": "python",
      "nbconvert_exporter": "python",
      "pygments_lexer": "ipython3",
      "version": "3.10.6"
    },
    "vscode": {
      "interpreter": {
        "hash": "86c56a74836ad344b00594bf6f38fa6a676a207ceefe20d101fbc465800ccb8d"
      }
    }
  },
  "nbformat": 4,
  "nbformat_minor": 5
}
